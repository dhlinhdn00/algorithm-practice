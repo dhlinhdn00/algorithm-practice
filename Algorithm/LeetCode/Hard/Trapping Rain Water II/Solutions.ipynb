{
 "cells": [
  {
   "cell_type": "markdown",
   "metadata": {},
   "source": [
    "# **SOLUTION**"
   ]
  },
  {
   "cell_type": "code",
   "execution_count": 7,
   "metadata": {},
   "outputs": [],
   "source": [
    "class Solution(object):\n",
    "    def trapRainWater(self, heightMap):\n",
    "        \"\"\"\n",
    "        :type heightMap: List[List[int]]\n",
    "        :rtype: int\n",
    "        \"\"\"\n",
    "        "
   ]
  },
  {
   "cell_type": "markdown",
   "metadata": {},
   "source": [
    "# **DRAFT**"
   ]
  },
  {
   "cell_type": "markdown",
   "metadata": {},
   "source": [
    "# **TESTCASES**"
   ]
  },
  {
   "cell_type": "code",
   "execution_count": 9,
   "metadata": {},
   "outputs": [
    {
     "name": "stdout",
     "output_type": "stream",
     "text": [
      "Case 1 - words1: ['amazon', 'apple', 'facebook', 'google', 'leetcode'], words2: ['e', 'o'], Output: ['facebook', 'google', 'leetcode'], Expected: ['facebook', 'google', 'leetcode'], Status: PASSED\n",
      "Case 2 - words1: ['amazon', 'apple', 'facebook', 'google', 'leetcode'], words2: ['lc', 'eo'], Output: ['leetcode'], Expected: ['leetcode'], Status: PASSED\n",
      "Case 3 - words1: ['acaac', 'cccbb', 'aacbb', 'caacc', 'bcbbb'], words2: ['c', 'cc', 'b'], Output: ['cccbb'], Expected: ['cccbb'], Status: PASSED\n"
     ]
    }
   ],
   "source": [
    "solution = Solution()\n",
    "\n",
    "def run_test_case(case_number, input_heightMap, expected):\n",
    "    result = solution.trapRainWater(input_heightMap)\n",
    "    status = \"PASSED\" if result == expected else \"FAILED\"\n",
    "    print(f\"Case {case_number} - heightMap: {input_heightMap}, Output: {result}, Expected: {expected}, Status: {status}\")\n",
    "\n",
    "test_cases = [\n",
    "    (1, [[1,4,3,1,3,2],[3,2,1,3,2,4],[2,3,3,2,3,1]], 4),\n",
    "    (2, [[3,3,3,3,3],[3,2,2,2,3],[3,2,1,2,3],[3,2,2,2,3],[3,3,3,3,3]], 10)\n",
    "]\n",
    "\n",
    "for case_number, input_heightMap, expected in test_cases:\n",
    "    run_test_case(case_number, input_heightMap, expected)"
   ]
  }
 ],
 "metadata": {
  "kernelspec": {
   "display_name": "base",
   "language": "python",
   "name": "python3"
  },
  "language_info": {
   "codemirror_mode": {
    "name": "ipython",
    "version": 3
   },
   "file_extension": ".py",
   "mimetype": "text/x-python",
   "name": "python",
   "nbconvert_exporter": "python",
   "pygments_lexer": "ipython3",
   "version": "3.10.12"
  }
 },
 "nbformat": 4,
 "nbformat_minor": 2
}

{
 "cells": [
  {
   "cell_type": "markdown",
   "metadata": {},
   "source": [
    "# **SOLUTION**"
   ]
  },
  {
   "cell_type": "code",
   "execution_count": 2,
   "metadata": {},
   "outputs": [],
   "source": [
    "class Solution(object):\n",
    "    def stringMatching(self, words):\n",
    "        \"\"\"\n",
    "        :type words: List[str]\n",
    "        :rtype: List[str]\n",
    "        \"\"\"\n",
    "        # Constraints:\n",
    "        # words = set(words)\n",
    "        # words = [element.lower() for element in elements]\n",
    "        return self.solverOptimized(words)\n",
    "\n",
    "    def solverNaive(self, words):\n",
    "        \"\"\"\n",
    "        :type words: List[str]\n",
    "        :rtype: List[str]\n",
    "        :complexity: O(n^2)\n",
    "        \"\"\"\n",
    "        ans = []\n",
    "        for word in words:\n",
    "            for other in words:\n",
    "                if word != other and word in other:\n",
    "                    ans.append(word)\n",
    "        return list(set(ans))\n",
    "\n",
    "    def solverOptimized(self, words):\n",
    "        \"\"\"\n",
    "        :type words: List[str]\n",
    "        :rtype: List[str]\n",
    "        :complexity: O(n log n + n * m), m is average lenght of word.\n",
    "        \"\"\"\n",
    "        words.sort(key=lambda x: len(x))\n",
    "\n",
    "        ans = []\n",
    "        n = len(words)\n",
    "        for i in range(n):\n",
    "            current_word = words[i]\n",
    "            for j in range(i + 1, n):\n",
    "                if current_word in words[j]:\n",
    "                    ans.append(current_word)\n",
    "                    break  \n",
    "        return ans"
   ]
  },
  {
   "cell_type": "markdown",
   "metadata": {},
   "source": [
    "# **DRAFT**"
   ]
  },
  {
   "cell_type": "markdown",
   "metadata": {},
   "source": [
    "# **TESTCASES**"
   ]
  },
  {
   "cell_type": "code",
   "execution_count": 5,
   "metadata": {},
   "outputs": [
    {
     "name": "stdout",
     "output_type": "stream",
     "text": [
      "Case 1 - Input: ['as', 'mass', 'hero', 'superhero'], Output: ['as', 'hero'], Expected: ['as', 'hero'], Status: PASSED\n",
      "Case 2 - Input: ['et', 'code', 'leetcode'], Output: ['et', 'code'], Expected: ['et', 'code'], Status: PASSED\n",
      "Case 3 - Input: ['bu', 'blue', 'green'], Output: [], Expected: [], Status: PASSED\n"
     ]
    }
   ],
   "source": [
    "solution = Solution()\n",
    "\n",
    "def run_test_case(case_number, input_words, expected):\n",
    "    result = solution.stringMatching(input_words)\n",
    "    status = \"PASSED\" if result == expected else \"FAILED\"\n",
    "    print(f\"Case {case_number} - Input: {input_words}, Output: {result}, Expected: {expected}, Status: {status}\")\n",
    "\n",
    "test_cases = [\n",
    "    (1, [\"mass\",\"as\",\"hero\",\"superhero\"], [\"as\",\"hero\"]),\n",
    "    (2, [\"leetcode\",\"et\",\"code\"], [\"et\",\"code\"]),\n",
    "    (3, [\"blue\",\"green\",\"bu\"], [])\n",
    "]\n",
    "\n",
    "for case_number, input_words, expected in test_cases:\n",
    "    run_test_case(case_number, input_words, expected)"
   ]
  }
 ],
 "metadata": {
  "kernelspec": {
   "display_name": "base",
   "language": "python",
   "name": "python3"
  },
  "language_info": {
   "codemirror_mode": {
    "name": "ipython",
    "version": 3
   },
   "file_extension": ".py",
   "mimetype": "text/x-python",
   "name": "python",
   "nbconvert_exporter": "python",
   "pygments_lexer": "ipython3",
   "version": "3.11.5"
  }
 },
 "nbformat": 4,
 "nbformat_minor": 2
}

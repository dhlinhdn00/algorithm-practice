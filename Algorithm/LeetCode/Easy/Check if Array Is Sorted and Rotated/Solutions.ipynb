{
 "cells": [
  {
   "cell_type": "markdown",
   "metadata": {},
   "source": [
    "# **SOLUTION**"
   ]
  },
  {
   "cell_type": "code",
   "execution_count": 14,
   "metadata": {},
   "outputs": [],
   "source": [
    "class Solution(object):\n",
    "    def check(self, nums):\n",
    "        \"\"\"\n",
    "        :type nums: List[int]\n",
    "        :rtype: bool\n",
    "        \"\"\"\n",
    "        return self.solverNaive(nums)\n",
    "        \n",
    "    def solverNaive(self, nums):\n",
    "        \"\"\"\n",
    "        :type nums: List[int]\n",
    "        :rtype: bool\n",
    "        \"\"\"\n",
    "        if len(nums) == 1:\n",
    "            return True\n",
    "\n",
    "        new_nums = []\n",
    "        for i in range(1, len(nums)):\n",
    "            if nums[i - 1] > nums[i]:\n",
    "                new_nums = nums[i:] + nums[:i]\n",
    "                break\n",
    "        if len(new_nums) > 0:\n",
    "            for i in range(1, len(new_nums)):\n",
    "                if new_nums[i - 1] > new_nums[i]:\n",
    "                    return False\n",
    "        return True"
   ]
  },
  {
   "cell_type": "markdown",
   "metadata": {},
   "source": [
    "# **DRAFT**"
   ]
  },
  {
   "cell_type": "code",
   "execution_count": 19,
   "metadata": {},
   "outputs": [
    {
     "name": "stdout",
     "output_type": "stream",
     "text": [
      "[5, 6, 6, 6, 9, 1, 2, 5]\n",
      "False\n"
     ]
    }
   ],
   "source": [
    "nums = [5,5,6,6,6,9,1,2]\n",
    "\n",
    "if len(nums) == 1:\n",
    "    print(True)\n",
    "\n",
    "for i in range(1, len(nums)):\n",
    "    if nums[i - 1] >= nums[i]:\n",
    "        new_nums = nums[i:] + nums[:i]\n",
    "        print(new_nums)\n",
    "        break\n",
    "\n",
    "for i in range(1, len(new_nums)):\n",
    "    if new_nums[i - 1] > new_nums[i]:\n",
    "        print(False)\n"
   ]
  },
  {
   "cell_type": "markdown",
   "metadata": {},
   "source": [
    "# **TESTCASES**"
   ]
  },
  {
   "cell_type": "code",
   "execution_count": 3,
   "metadata": {},
   "outputs": [
    {
     "name": "stdout",
     "output_type": "stream",
     "text": [
      "Case 1 - Nums: [2, 1, 4], Output: True, Expected: True, Status: PASSED\n",
      "Case 2 - Nums: [4, 3, 1, 6], Output: False, Expected: False, Status: PASSED\n",
      "Case 3 - Nums: [1], Output: True, Expected: True, Status: PASSED\n"
     ]
    }
   ],
   "source": [
    "solution = Solution()\n",
    "\n",
    "def run_test_case(case_number, input_nums, expected):\n",
    "    result = solution.check(input_nums)\n",
    "    status = \"PASSED\" if result == expected else \"FAILED\"\n",
    "    print(f\"Case {case_number} - Nums: {input_nums}, Output: {result}, Expected: {expected}, Status: {status}\")\n",
    "\n",
    "test_cases = [\n",
    "    (1, [3,4,5,1,2], True),\n",
    "    (2, [2,1,3,4], False),\n",
    "    (3, [1,2,3], True)\n",
    "]\n",
    "\n",
    "for case_number, input_nums, expected in test_cases:\n",
    "    run_test_case(case_number, input_nums, expected)"
   ]
  }
 ],
 "metadata": {
  "kernelspec": {
   "display_name": "base",
   "language": "python",
   "name": "python3"
  },
  "language_info": {
   "codemirror_mode": {
    "name": "ipython",
    "version": 3
   },
   "file_extension": ".py",
   "mimetype": "text/x-python",
   "name": "python",
   "nbconvert_exporter": "python",
   "pygments_lexer": "ipython3",
   "version": "3.10.12"
  }
 },
 "nbformat": 4,
 "nbformat_minor": 2
}

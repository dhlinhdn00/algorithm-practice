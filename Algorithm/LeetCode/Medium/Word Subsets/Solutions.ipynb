{
 "cells": [
  {
   "cell_type": "markdown",
   "metadata": {},
   "source": [
    "# **SOLUTION**"
   ]
  },
  {
   "cell_type": "code",
   "execution_count": 7,
   "metadata": {},
   "outputs": [],
   "source": [
    "class Solution(object):\n",
    "    def wordSubsets(self, words1, words2):\n",
    "        \"\"\"\n",
    "        :type words1: List[str]\n",
    "        :type words2: List[str]\n",
    "        :rtype: List[str]\n",
    "        \"\"\"\n",
    "\n",
    "        return self.solverReference(words1, words2)\n",
    "    \n",
    "    def checkSubSetConfused(self, word1, word2):\n",
    "        \"\"\"\n",
    "        :type: word1: str\n",
    "        :type: word2: str\n",
    "        :rtype: bool\n",
    "        :knowledge: using str.find(sub[, start[, end]]), return -1 if value is not found.\n",
    "        :confusion: \n",
    "        \"\"\"\n",
    "        temp = 0\n",
    "        for char in word2:\n",
    "            index = word1.find(char, temp)\n",
    "            if index == -1:\n",
    "                return False\n",
    "            temp = index + 1\n",
    "        return True\n",
    "\n",
    "    def checkSubSet(self, word1, word2):\n",
    "        \"\"\"\n",
    "        :type: word1: str\n",
    "        :type: word2: str\n",
    "        :rtype: bool\n",
    "        \"\"\"\n",
    "        freq1 = [0]*26\n",
    "        freq2 = [0]*26\n",
    "        \n",
    "        for ch in word1:\n",
    "            freq1[ord(ch) - ord('a')] += 1\n",
    "        \n",
    "        for ch in word2:\n",
    "            freq2[ord(ch) - ord('a')] += 1\n",
    "        \n",
    "        for i in range(26):\n",
    "            if freq2[i] > freq1[i]:\n",
    "                return False\n",
    "        return True\n",
    "\n",
    "    \n",
    "    def solverNaive(self, words1, words2):\n",
    "        \"\"\"\n",
    "        :type words1: List[str]\n",
    "        :type words2: List[str]\n",
    "        :rtype: List[str]\n",
    "        :status: Time Limit Exceeded\n",
    "        \"\"\"\n",
    "        ans = []\n",
    "        for word1 in words1:\n",
    "            check = True\n",
    "            for word2 in words2:\n",
    "                check *= self.checkSubSet(word1, word2)\n",
    "                # print(word1)\n",
    "                # print(word2)\n",
    "                # print(self.checkSubSet(word1, word2))\n",
    "                # print(\"________\")\n",
    "            if check == True:\n",
    "                ans.append(word1)\n",
    "        return ans\n",
    "\n",
    "    def solverOptimized(self, words1, words2):\n",
    "        \"\"\"\n",
    "        :type words1: List[str]\n",
    "        :type words2: List[str]\n",
    "        :rtype: List[str]\n",
    "        \"\"\"\n",
    "\n",
    "        freq_required = [0]*26\n",
    "        \n",
    "        for w2 in words2:\n",
    "            freq_temp = [0]*26\n",
    "            for ch in w2:\n",
    "                freq_temp[ord(ch) - ord('a')] += 1\n",
    "            for i in range(26):\n",
    "                freq_required[i] = max(freq_required[i], freq_temp[i])\n",
    "        \n",
    "        ans = []\n",
    "        for word1 in words1:\n",
    "            freq1 = [0]*26\n",
    "            for ch in word1:\n",
    "                freq1[ord(ch) - ord('a')] += 1\n",
    "            \n",
    "            if self.isUniversal(freq1, freq_required):\n",
    "                ans.append(word1)\n",
    "        return ans\n",
    "\n",
    "    def isUniversal(self, freq1, freq_required):\n",
    "        for i in range(26):\n",
    "            if freq1[i] < freq_required[i]:\n",
    "                return False\n",
    "        return True\n",
    "    \n",
    "    def solverReference(self, words1, words2):\n",
    "        \"\"\"\n",
    "        :type words1: List[str]\n",
    "        :type words2: List[str]\n",
    "        :rtype: List[str]\n",
    "        \"\"\"\n",
    "        output = []\n",
    "\n",
    "        words2 = list(set(words2))\n",
    "\n",
    "        letters = {}\n",
    "        for b in words2:\n",
    "            for c in b:\n",
    "                if not c in letters or b.count(c) > letters[c]:\n",
    "                    letters[c] = b.count(c)\n",
    "\n",
    "        for a in words1:\n",
    "            omit = False\n",
    "            for c in letters:\n",
    "                if a.count(c) < letters[c]:\n",
    "                    omit = True\n",
    "                    break\n",
    "            if not omit:\n",
    "                output.append(a)\n",
    "        return output\n",
    "\n",
    "\n",
    "\n"
   ]
  },
  {
   "cell_type": "markdown",
   "metadata": {},
   "source": [
    "# **DRAFT**"
   ]
  },
  {
   "cell_type": "code",
   "execution_count": null,
   "metadata": {},
   "outputs": [],
   "source": [
    "words1 = [\"amazon\",\"apple\",\"facebook\",\"google\",\"leetcode\"]\n",
    "words2 = [\"e\",\"o\"]\n",
    "\n",
    "for word1 in words1:\n",
    "    for index2, word2 in enumerate(words2):\n",
    "        if word2 in word1:\n",
    "            "
   ]
  },
  {
   "cell_type": "code",
   "execution_count": 101,
   "metadata": {},
   "outputs": [],
   "source": [
    "def checkSubSet(word1, word2):\n",
    "    \"\"\"\n",
    "    :type: word1: str\n",
    "    :type: word2: str\n",
    "    :rtype: bool\n",
    "    :knowledge: using str.find(sub[, start[, end]]), return -1 if value is not found.\n",
    "    \"\"\"\n",
    "    temp = 0\n",
    "    for char in word2:\n",
    "        index = word1.find(char, temp)\n",
    "        if index == -1:\n",
    "            return False\n",
    "        temp = index + 1\n",
    "    return True"
   ]
  },
  {
   "cell_type": "code",
   "execution_count": 102,
   "metadata": {},
   "outputs": [
    {
     "data": {
      "text/plain": [
       "False"
      ]
     },
     "execution_count": 102,
     "metadata": {},
     "output_type": "execute_result"
    }
   ],
   "source": [
    "word1 = \"leetcode\"\n",
    "word2 = \"cl\"\n",
    "checkSubSet(word1, word2)"
   ]
  },
  {
   "cell_type": "markdown",
   "metadata": {},
   "source": [
    "# **TESTCASES**"
   ]
  },
  {
   "cell_type": "code",
   "execution_count": 9,
   "metadata": {},
   "outputs": [
    {
     "name": "stdout",
     "output_type": "stream",
     "text": [
      "Case 1 - words1: ['amazon', 'apple', 'facebook', 'google', 'leetcode'], words2: ['e', 'o'], Output: ['facebook', 'google', 'leetcode'], Expected: ['facebook', 'google', 'leetcode'], Status: PASSED\n",
      "Case 2 - words1: ['amazon', 'apple', 'facebook', 'google', 'leetcode'], words2: ['lc', 'eo'], Output: ['leetcode'], Expected: ['leetcode'], Status: PASSED\n",
      "Case 3 - words1: ['acaac', 'cccbb', 'aacbb', 'caacc', 'bcbbb'], words2: ['c', 'cc', 'b'], Output: ['cccbb'], Expected: ['cccbb'], Status: PASSED\n"
     ]
    }
   ],
   "source": [
    "solution = Solution()\n",
    "\n",
    "def run_test_case(case_number, input_words1, input_words2, expected):\n",
    "    result = solution.wordSubsets(input_words1, input_words2)\n",
    "    status = \"PASSED\" if result == expected else \"FAILED\"\n",
    "    print(f\"Case {case_number} - words1: {input_words1}, words2: {input_words2}, Output: {result}, Expected: {expected}, Status: {status}\")\n",
    "\n",
    "test_cases = [\n",
    "    (1, [\"amazon\",\"apple\",\"facebook\",\"google\",\"leetcode\"], [\"e\",\"o\"], [\"facebook\",\"google\",\"leetcode\"]),\n",
    "    (2, [\"amazon\",\"apple\",\"facebook\",\"google\",\"leetcode\"], [\"lc\",\"eo\"], [\"leetcode\"]),\n",
    "    (3, [\"acaac\",\"cccbb\",\"aacbb\",\"caacc\",\"bcbbb\"], [\"c\",\"cc\",\"b\"], [\"cccbb\"])\n",
    "]\n",
    "\n",
    "for case_number, input_words1, input_words2, expected in test_cases:\n",
    "    run_test_case(case_number, input_words1, input_words2, expected)"
   ]
  }
 ],
 "metadata": {
  "kernelspec": {
   "display_name": "base",
   "language": "python",
   "name": "python3"
  },
  "language_info": {
   "codemirror_mode": {
    "name": "ipython",
    "version": 3
   },
   "file_extension": ".py",
   "mimetype": "text/x-python",
   "name": "python",
   "nbconvert_exporter": "python",
   "pygments_lexer": "ipython3",
   "version": "3.10.12"
  }
 },
 "nbformat": 4,
 "nbformat_minor": 2
}

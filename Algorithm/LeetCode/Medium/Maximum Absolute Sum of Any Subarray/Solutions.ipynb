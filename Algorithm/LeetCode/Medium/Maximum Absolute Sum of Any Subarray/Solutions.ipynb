{
 "cells": [
  {
   "cell_type": "markdown",
   "metadata": {},
   "source": [
    "# **SOLUTION**"
   ]
  },
  {
   "cell_type": "code",
   "execution_count": 13,
   "metadata": {},
   "outputs": [],
   "source": [
    "class Solution(object):\n",
    "    def maxAbsoluteSum(self, nums):\n",
    "        \"\"\"\n",
    "        :type nums: List[int]\n",
    "        :rtype: int\n",
    "        \"\"\"\n",
    "        return self.solverKadane(nums)\n",
    "\n",
    "    def solverNaive(self, nums):\n",
    "        \"\"\"\n",
    "        :status: Failed\n",
    "        \"\"\"\n",
    "        temps = nums + [0]\n",
    "        ans_list = []\n",
    "        for i in range(len(temps)-1):\n",
    "            if temps[i]*temps[i+1] > 0:\n",
    "                temps[i+1] = temps[i] + temps[i+1]\n",
    "            else:\n",
    "                ans_list.append(abs(temps[i]))\n",
    "\n",
    "        return max(ans_list)\n",
    "    \n",
    "    def solverKadane(self, nums):\n",
    "        \"\"\"\n",
    "        :method: Kadane Algorithm\n",
    "        \"\"\"\n",
    "        cur_max = 0\n",
    "        global_max = 0\n",
    "\n",
    "        cur_min = 0\n",
    "        global_min = 0\n",
    "\n",
    "        for num in nums:\n",
    "            cur_max = max(num, cur_max + num)\n",
    "            global_max = max(cur_max, global_max)\n",
    "\n",
    "            cur_min = min(num, cur_min + num)\n",
    "            global_min = min(cur_min, global_min)\n",
    "\n",
    "        return max(global_max, abs(global_min))\n",
    "\n",
    "            \n"
   ]
  },
  {
   "cell_type": "markdown",
   "metadata": {},
   "source": [
    "# **DRAFT**"
   ]
  },
  {
   "cell_type": "code",
   "execution_count": 10,
   "metadata": {},
   "outputs": [
    {
     "name": "stdout",
     "output_type": "stream",
     "text": [
      "[2, -5, 1, -4, 3, -2]\n",
      "3\n"
     ]
    }
   ],
   "source": [
    "# Failed Idea\n",
    "test_list = [2, -5, 1, -4, 3, -2] + [0]\n",
    "ans_list = []\n",
    "for i in range(len(test_list)-1):\n",
    "    if test_list[i]*test_list[i+1] > 0:\n",
    "        test_list[i+1] = test_list[i] + test_list[i+1]\n",
    "    else:\n",
    "        ans_list.append(test_list[i])\n",
    "print(ans_list)\n",
    "print(max(ans_list))"
   ]
  },
  {
   "cell_type": "code",
   "execution_count": 21,
   "metadata": {},
   "outputs": [
    {
     "name": "stdout",
     "output_type": "stream",
     "text": [
      "[2, -5, 1, -4, 3, -2]\n",
      "iter: 0\n",
      "cur_max: 2\n",
      "global_max: 2\n",
      "\n",
      "iter: 1\n",
      "cur_max: -3\n",
      "global_max: 2\n",
      "\n",
      "iter: 2\n",
      "cur_max: 1\n",
      "global_max: 2\n",
      "\n",
      "iter: 3\n",
      "cur_max: -3\n",
      "global_max: 2\n",
      "\n",
      "iter: 4\n",
      "cur_max: 3\n",
      "global_max: 3\n",
      "\n",
      "iter: 5\n",
      "cur_max: 1\n",
      "global_max: 3\n",
      "\n",
      "final global_max: 3\n"
     ]
    }
   ],
   "source": [
    "# Kadane Test for max subarr search:\n",
    "\n",
    "test_nums = [2, -5, 1, -4, 3, -2]\n",
    "print(test_nums)\n",
    "cur_max = 0\n",
    "global_max = 0\n",
    "idx_iter = 0\n",
    "\n",
    "for num in test_nums:\n",
    "    print(\"iter:\", idx_iter)\n",
    "    cur_max = max(num, cur_max + num)\n",
    "    print(\"cur_max:\", cur_max)\n",
    "    global_max = max(global_max, cur_max)\n",
    "    print(\"global_max:\", global_max)    \n",
    "    print()\n",
    "    idx_iter += 1\n",
    "print(\"final global_max:\", global_max)    "
   ]
  },
  {
   "cell_type": "markdown",
   "metadata": {},
   "source": [
    "# **TESTCASES**"
   ]
  },
  {
   "cell_type": "code",
   "execution_count": 14,
   "metadata": {},
   "outputs": [
    {
     "name": "stdout",
     "output_type": "stream",
     "text": [
      "Case 1 - nums: [1, -3, 2, 3, -4], Output: 5, Expected: 5, Status: PASSED\n",
      "Case 2 - nums: [2, -5, 1, -4, 3, -2], Output: 8, Expected: 8, Status: PASSED\n"
     ]
    }
   ],
   "source": [
    "solution = Solution()\n",
    "\n",
    "def run_test_case(case_number, input_nums, expected):\n",
    "    result = solution.maxAbsoluteSum(input_nums)\n",
    "    status = \"PASSED\" if result == expected else \"FAILED\"\n",
    "    print(f\"Case {case_number} - nums: {input_nums}, Output: {result}, Expected: {expected}, Status: {status}\")\n",
    "\n",
    "test_cases = [\n",
    "    (1, [1,-3,2,3,-4], 5),\n",
    "    (2, [2,-5,1,-4,3,-2], 8)\n",
    "]\n",
    "\n",
    "for case_number, input_nums, expected in test_cases:\n",
    "    run_test_case(case_number, input_nums, expected)"
   ]
  }
 ],
 "metadata": {
  "kernelspec": {
   "display_name": "al_env",
   "language": "python",
   "name": "python3"
  },
  "language_info": {
   "codemirror_mode": {
    "name": "ipython",
    "version": 3
   },
   "file_extension": ".py",
   "mimetype": "text/x-python",
   "name": "python",
   "nbconvert_exporter": "python",
   "pygments_lexer": "ipython3",
   "version": "3.10.12"
  }
 },
 "nbformat": 4,
 "nbformat_minor": 2
}

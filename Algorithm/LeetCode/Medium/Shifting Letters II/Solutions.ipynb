{
 "cells": [
  {
   "cell_type": "markdown",
   "metadata": {},
   "source": [
    "# **SOLUTION**"
   ]
  },
  {
   "cell_type": "code",
   "execution_count": 31,
   "metadata": {},
   "outputs": [],
   "source": [
    "class Solution(object):\n",
    "    def shiftingLetters(self, s, shifts):\n",
    "        \"\"\"\n",
    "        :type s: str\n",
    "        :type shifts: List[List[int]]\n",
    "        :rtype: str\n",
    "        \"\"\"\n",
    "        return self.solverPreprocessing(s, shifts)\n",
    "    \n",
    "    def shiftsDict(self, s, shifts):\n",
    "        shifts_dict = {i: 0 for i in range(len(s))}\n",
    "        \n",
    "        for start, end, direction in shifts:\n",
    "            shift_value = 1 if direction == 1 else -1\n",
    "            for i in range(start, end + 1):\n",
    "                shifts_dict[i] += shift_value\n",
    "        return shifts_dict\n",
    "\n",
    "    def shiftsDictOptimized(self, s, shifts):\n",
    "        \"\"\"\n",
    "        method: using prefix sum\n",
    "        complexity: O(m + n)\n",
    "        \"\"\"\n",
    "        n = len(s)\n",
    "        shift_arr = [0] * (n + 1)\n",
    "        \n",
    "        for start, end, direction in shifts:\n",
    "            shift_value = 1 if direction == 1 else -1\n",
    "            shift_arr[start] += shift_value\n",
    "            if end + 1 < n:\n",
    "                shift_arr[end + 1] -= shift_value\n",
    "        \n",
    "        total = 0\n",
    "        for i in range(n):\n",
    "            total += shift_arr[i]\n",
    "            shift_arr[i] = total  \n",
    "        \n",
    "        return shift_arr[:n]\n",
    "\n",
    "    def solverPreprocessing(self, s, shifts):\n",
    "        ans = \"\"\n",
    "        # shifts_dict = self.shiftsDict(s, shifts)\n",
    "        shifts_dict = self.shiftsDictOptimized(s, shifts)\n",
    "        \n",
    "        for i, char in enumerate(s):\n",
    "            new_ord = ord(char) + shifts_dict[i]\n",
    "            \n",
    "            if new_ord > 122:\n",
    "                distance = (new_ord - 122) % 26\n",
    "                if distance == 0:\n",
    "                    new_ord = 122\n",
    "                else:\n",
    "                    new_ord = 97 + distance - 1\n",
    "            \n",
    "            elif new_ord < 97:\n",
    "                distance = (97 - new_ord) % 26\n",
    "                if distance == 0:\n",
    "                    new_ord = 97\n",
    "                else:\n",
    "                    new_ord = 122 - distance + 1\n",
    "\n",
    "            ans += chr(new_ord)\n",
    "        return ans"
   ]
  },
  {
   "cell_type": "code",
   "execution_count": null,
   "metadata": {},
   "outputs": [],
   "source": [
    "class Solution:\n",
    "    def shiftingLetters(self, s, shifts):\n",
    "        \"\"\"\n",
    "        :type s: str\n",
    "        :type shifts: List[List[int]]\n",
    "        :rtype: str.\n",
    "        \"\"\"\n",
    "        n = len(s)\n",
    "        fenw = FenwickTree(n)\n",
    "        \n",
    "        for start, end, direction in shifts:\n",
    "            val = 1 if direction == 1 else -1\n",
    "            fenw.range_update(start, end, val)\n",
    "        \n",
    "        ans = []\n",
    "        for i, ch in enumerate(s):\n",
    "            shift_val = fenw.point_query(i)\n",
    "            alpha_pos = ord(ch) - ord('a')\n",
    "            new_pos = (alpha_pos + shift_val) % 26\n",
    "            new_char = chr(new_pos + ord('a'))\n",
    "            ans.append(new_char)\n",
    "        \n",
    "        return ''.join(ans)\n",
    "\n",
    "class FenwickTree:\n",
    "    def __init__(self, n):\n",
    "        self.n = n\n",
    "        self.fenw = [0] * (n + 1)\n",
    "    \n",
    "    def update(self, index, delta):\n",
    "        i = index + 1\n",
    "        while i <= self.n:\n",
    "            self.fenw[i] += delta\n",
    "            i += i & -i\n",
    "\n",
    "    def prefix_sum(self, index):\n",
    "        i = index + 1\n",
    "        result = 0\n",
    "        while i > 0:\n",
    "            result += self.fenw[i]\n",
    "            i -= i & -i\n",
    "        return result\n",
    "\n",
    "    def range_update(self, l, r, val):\n",
    "        self.update(l, val)\n",
    "        if r + 1 < self.n:\n",
    "            self.update(r + 1, -val)\n",
    "\n",
    "    def point_query(self, index):\n",
    "        return self.prefix_sum(index)\n"
   ]
  },
  {
   "cell_type": "markdown",
   "metadata": {},
   "source": [
    "# **DRAFT**"
   ]
  },
  {
   "cell_type": "code",
   "execution_count": 2,
   "metadata": {},
   "outputs": [
    {
     "data": {
      "text/plain": [
       "'b'"
      ]
     },
     "execution_count": 2,
     "metadata": {},
     "output_type": "execute_result"
    }
   ],
   "source": [
    "chr(ord(\"a\")+1)"
   ]
  },
  {
   "cell_type": "code",
   "execution_count": 12,
   "metadata": {},
   "outputs": [
    {
     "name": "stdout",
     "output_type": "stream",
     "text": [
      "{0: -1, 1: 1, 2: 0, 3: 0}\n"
     ]
    }
   ],
   "source": [
    "s = \"dztz\"\n",
    "shifts = [[0,0,0],[1,1,1]]\n",
    "\n",
    "shift_dict = {i: 0 for i in range(len(s))}\n",
    "\n",
    "for start, end, direction in shifts:\n",
    "    shift_value = 1 if direction == 1 else -1\n",
    "    for i in range(start, end + 1):\n",
    "        shift_dict[i] += shift_value\n",
    "\n",
    "print(shift_dict) "
   ]
  },
  {
   "cell_type": "code",
   "execution_count": 18,
   "metadata": {},
   "outputs": [
    {
     "name": "stdout",
     "output_type": "stream",
     "text": [
      "c\n",
      "a\n",
      "t\n",
      "z\n"
     ]
    }
   ],
   "source": [
    "for i, char in enumerate(s):\n",
    "    # print(char)\n",
    "    new_ord = ord(char) + shift_dict[i]\n",
    "    if new_ord < 97:\n",
    "        distance = 97 - new_ord\n",
    "        new_ord = 122 - distance + 1\n",
    "        print(new_ord)\n",
    "    if new_ord > 122:\n",
    "        distance = new_ord - 122\n",
    "        new_ord = 97 + distance - 1\n",
    "    print(chr(new_ord))\n",
    "    # print(chr(ord(char) + shift_dict[i]))\n"
   ]
  },
  {
   "cell_type": "code",
   "execution_count": 15,
   "metadata": {},
   "outputs": [
    {
     "data": {
      "text/plain": [
       "122"
      ]
     },
     "execution_count": 15,
     "metadata": {},
     "output_type": "execute_result"
    }
   ],
   "source": [
    "ord(\"z\")"
   ]
  },
  {
   "cell_type": "markdown",
   "metadata": {},
   "source": [
    "# **TESTCASES**"
   ]
  },
  {
   "cell_type": "code",
   "execution_count": 32,
   "metadata": {},
   "outputs": [
    {
     "name": "stdout",
     "output_type": "stream",
     "text": [
      "Case 1 - s: abc, shifts: [[0, 1, 0], [1, 2, 1], [0, 2, 1]], Output: ace, Expected: ace, Status: PASSED\n",
      "Case 2 - s: dztz, shifts: [[0, 0, 0], [1, 1, 1]], Output: catz, Expected: catz, Status: PASSED\n"
     ]
    }
   ],
   "source": [
    "solution = Solution()\n",
    "\n",
    "def run_test_case(case_number, input_s, input_shifts, expected):\n",
    "    result = solution.shiftingLetters(input_s, input_shifts)\n",
    "    status = \"PASSED\" if result == expected else \"FAILED\"\n",
    "    print(f\"Case {case_number} - s: {input_s}, shifts: {input_shifts}, Output: {result}, Expected: {expected}, Status: {status}\")\n",
    "\n",
    "test_cases = [\n",
    "    (1, \"abc\", [[0,1,0],[1,2,1],[0,2,1]], \"ace\"),\n",
    "    (2, \"dztz\", [[0,0,0],[1,1,1]], \"catz\")\n",
    "]\n",
    "\n",
    "for case_number, input_s, input_shifts, expected in test_cases:\n",
    "    run_test_case(case_number, input_s, input_shifts, expected)"
   ]
  }
 ],
 "metadata": {
  "kernelspec": {
   "display_name": "al_env",
   "language": "python",
   "name": "python3"
  },
  "language_info": {
   "codemirror_mode": {
    "name": "ipython",
    "version": 3
   },
   "file_extension": ".py",
   "mimetype": "text/x-python",
   "name": "python",
   "nbconvert_exporter": "python",
   "pygments_lexer": "ipython3",
   "version": "3.10.12"
  }
 },
 "nbformat": 4,
 "nbformat_minor": 2
}

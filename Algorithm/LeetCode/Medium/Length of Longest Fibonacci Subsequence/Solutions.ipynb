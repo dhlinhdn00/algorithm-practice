{
 "cells": [
  {
   "cell_type": "markdown",
   "metadata": {},
   "source": [
    "# **SOLUTION**"
   ]
  },
  {
   "cell_type": "code",
   "execution_count": 1,
   "metadata": {},
   "outputs": [],
   "source": [
    "class Solution(object):\n",
    "    def lenLongestFibSubseq(self, arr):\n",
    "        \"\"\"\n",
    "        :type arr: List[int]\n",
    "        :rtype: int\n",
    "        \"\"\"\n",
    "        return self.solverDP(arr)\n",
    "    \n",
    "    def solverDP(self, arr):\n",
    "        \"\"\"\n",
    "        :method: Dynamic Programming\n",
    "        \"\"\"\n",
    "        n = len(arr)\n",
    "        if n < 3: \n",
    "            return 0\n",
    "        # Comprehensive code:\n",
    "        # index_map = {}\n",
    "        # for idx, val in enumerate(arr):\n",
    "        #     index_map[val] = idx\n",
    "\n",
    "        index_map = {val: idx for idx, val in enumerate(arr)}\n",
    "\n",
    "        L = {}\n",
    "        max_len = 0\n",
    "        for j in range(n):\n",
    "            for i in range(j):\n",
    "                x = arr[j] - arr[i]\n",
    "                # Check index_map key\n",
    "                if x in index_map:\n",
    "                    k = index_map[x]\n",
    "\n",
    "                    # extend L if k < i. Order: k < i < j.    \n",
    "                    if k < i:\n",
    "                    # CMT: L.get((k, i), 2) -> Retrieve the length of the ans dict (L) at (k, i). If (k, i) does not  exist, default it to 2.\n",
    "                    # Another write:\n",
    "                    # if (k, i) in L:\n",
    "                    #     L[(i, j)] = L[(k, i)] + 1\n",
    "                    # else:\n",
    "                    #     L[(i, j)] = 3\n",
    "                        L[(i, j)] = L.get((k, i), 2) + 1\n",
    "                    else:\n",
    "                        L[(i, j)] = 2\n",
    "                else:\n",
    "                    L[(i, j)] = 2\n",
    "        \n",
    "        return max(list(L.values())) if max(list(L.values())) >= 3 else 0"
   ]
  },
  {
   "cell_type": "markdown",
   "metadata": {},
   "source": [
    "# **DRAFT**"
   ]
  },
  {
   "cell_type": "code",
   "execution_count": 10,
   "metadata": {},
   "outputs": [],
   "source": [
    "arr = [1, 3, 7, 10]\n",
    "n = len(arr)"
   ]
  },
  {
   "cell_type": "code",
   "execution_count": 11,
   "metadata": {},
   "outputs": [
    {
     "name": "stdout",
     "output_type": "stream",
     "text": [
      "{1: 0, 3: 1, 7: 2, 10: 3}\n"
     ]
    }
   ],
   "source": [
    "\n",
    "index_map = {val: idx for idx, val in enumerate(arr)}\n",
    "print(index_map)\n",
    "\n"
   ]
  },
  {
   "cell_type": "code",
   "execution_count": 13,
   "metadata": {},
   "outputs": [
    {
     "name": "stdout",
     "output_type": "stream",
     "text": [
      "x: 2\n",
      "case x not in index_map: L =  2\n",
      "{(0, 1): 2}\n",
      "2\n",
      "____\n",
      "x: 6\n",
      "case x not in index_map: L =  2\n",
      "{(0, 1): 2, (0, 2): 2}\n",
      "2\n",
      "____\n",
      "x: 4\n",
      "case x not in index_map: L =  2\n",
      "{(0, 1): 2, (0, 2): 2, (1, 2): 2}\n",
      "2\n",
      "____\n",
      "x: 9\n",
      "case x not in index_map: L =  2\n",
      "{(0, 1): 2, (0, 2): 2, (1, 2): 2, (0, 3): 2}\n",
      "2\n",
      "____\n",
      "x: 7\n",
      "case x in index_map:\n",
      "k: 2\n",
      "case k >= i: 2\n",
      "{(0, 1): 2, (0, 2): 2, (1, 2): 2, (0, 3): 2, (1, 3): 2}\n",
      "2\n",
      "____\n",
      "x: 3\n",
      "case x in index_map:\n",
      "k: 1\n",
      "case k < i: 3\n",
      "{(0, 1): 2, (0, 2): 2, (1, 2): 2, (0, 3): 2, (1, 3): 2, (2, 3): 3}\n",
      "3\n",
      "____\n",
      "final: 3\n"
     ]
    }
   ],
   "source": [
    "L = {}\n",
    "max_len = 0\n",
    "for j in range(n):\n",
    "    for i in range(j):\n",
    "        x = arr[j] - arr[i]\n",
    "        print(\"x:\",x)\n",
    "        if x in index_map:\n",
    "            print(\"case x in index_map:\")\n",
    "            k = index_map[x]\n",
    "            print(\"k:\", k)\n",
    "\n",
    "            if k < i:\n",
    "                L[(i, j)] = L.get((k, i), 2) + 1\n",
    "                print(\"case k < i:\", L[(i, j)])\n",
    "            else:\n",
    "                L[(i, j)] = 2\n",
    "                print(\"case k >= i:\", L[(i, j)])\n",
    "        else:\n",
    "            L[(i, j)] = 2\n",
    "            print(\"case x not in index_map: L = \", L[(i, j)])\n",
    "\n",
    "\n",
    "        max_len = max(max_len, L[(i, j)])\n",
    "        print(L)\n",
    "        print(max_len)\n",
    "        print(\"____\")\n",
    "\n",
    "print(\"final:\", max_len)"
   ]
  },
  {
   "cell_type": "markdown",
   "metadata": {},
   "source": [
    "# **TESTCASES**"
   ]
  },
  {
   "cell_type": "code",
   "execution_count": 2,
   "metadata": {},
   "outputs": [
    {
     "name": "stdout",
     "output_type": "stream",
     "text": [
      "Case 1 - arr: [1, 2, 3, 4, 5, 6, 7, 8], Output: 5, Expected: 5, Status: PASSED\n",
      "Case 2 - arr: [1, 3, 7, 11, 12, 14, 18], Output: 3, Expected: 3, Status: PASSED\n"
     ]
    }
   ],
   "source": [
    "solution = Solution()\n",
    "\n",
    "def run_test_case(case_number, input_arr, expected):\n",
    "    result = solution.lenLongestFibSubseq(input_arr)\n",
    "    status = \"PASSED\" if result == expected else \"FAILED\"\n",
    "    print(f\"Case {case_number} - arr: {input_arr}, Output: {result}, Expected: {expected}, Status: {status}\")\n",
    "\n",
    "test_cases = [\n",
    "    (1, [1,2,3,4,5,6,7,8], 5),\n",
    "    (2, [1,3,7,11,12,14,18], 3)\n",
    "]\n",
    "\n",
    "for case_number, input_arr, expected in test_cases:\n",
    "    run_test_case(case_number, input_arr, expected)"
   ]
  }
 ],
 "metadata": {
  "kernelspec": {
   "display_name": "base",
   "language": "python",
   "name": "python3"
  },
  "language_info": {
   "codemirror_mode": {
    "name": "ipython",
    "version": 3
   },
   "file_extension": ".py",
   "mimetype": "text/x-python",
   "name": "python",
   "nbconvert_exporter": "python",
   "pygments_lexer": "ipython3",
   "version": "3.10.12"
  }
 },
 "nbformat": 4,
 "nbformat_minor": 2
}

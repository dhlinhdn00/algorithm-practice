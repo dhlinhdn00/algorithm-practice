{
 "cells": [
  {
   "cell_type": "markdown",
   "metadata": {},
   "source": [
    "# **SOLUTION**"
   ]
  },
  {
   "cell_type": "code",
   "execution_count": 1,
   "metadata": {},
   "outputs": [],
   "source": [
    "import math\n",
    "from collections import Counter"
   ]
  },
  {
   "cell_type": "code",
   "execution_count": 2,
   "metadata": {},
   "outputs": [],
   "source": [
    "class Solution(object):\n",
    "    def numTilePossibilities(self, tiles):\n",
    "        \"\"\"\n",
    "        :type tiles: str\n",
    "        :rtype: int\n",
    "        \"\"\"\n",
    "        return self.solverProbability(tiles)\n",
    "    \n",
    "    def solverProbability(self, tiles):\n",
    "        \"\"\"\n",
    "        :type tiles: str\n",
    "        :rtype: int\n",
    "        \"\"\"\n",
    "        count = Counter(tiles)\n",
    "        letters = list(count.keys())\n",
    "        n = len(letters)\n",
    "        result = [0]\n",
    "\n",
    "        def dfs(i, current):\n",
    "            if i == n:\n",
    "                total = sum(current.values())\n",
    "                if total == 0:\n",
    "                    return\n",
    "                ways = math.factorial(total)\n",
    "                for letter in current:\n",
    "                    ways //= math.factorial(current[letter])\n",
    "                result[0] += ways\n",
    "                return\n",
    "            \n",
    "            letter = letters[i]\n",
    "            \n",
    "            for k in range(count[letter]+1):\n",
    "                current[letter] = k\n",
    "                dfs(i + 1, current)\n",
    "\n",
    "        dfs(0, {letter: 0 for letter in letters})\n",
    "        return result[0]"
   ]
  },
  {
   "cell_type": "markdown",
   "metadata": {},
   "source": [
    "# **DRAFT**"
   ]
  },
  {
   "cell_type": "code",
   "execution_count": 7,
   "metadata": {},
   "outputs": [
    {
     "name": "stdout",
     "output_type": "stream",
     "text": [
      "Counter({'A': 2, 'B': 1})\n",
      "['A', 'B']\n",
      "dict_values([2, 1])\n"
     ]
    }
   ],
   "source": [
    "tiles = \"AAB\"\n",
    "count = Counter(tiles)\n",
    "print(count)\n",
    "print(list(count.keys()))\n",
    "print(count.values())"
   ]
  },
  {
   "cell_type": "markdown",
   "metadata": {},
   "source": [
    "# **TESTCASES**"
   ]
  },
  {
   "cell_type": "code",
   "execution_count": 12,
   "metadata": {},
   "outputs": [
    {
     "name": "stdout",
     "output_type": "stream",
     "text": [
      "Case 1 - tiles: AAB, Output: 8, Expected: 8, Status: PASSED\n",
      "Case 2 - tiles: AAABBC, Output: 188, Expected: 188, Status: PASSED\n",
      "Case 3 - tiles: V, Output: 1, Expected: 1, Status: PASSED\n"
     ]
    }
   ],
   "source": [
    "solution = Solution()\n",
    "\n",
    "def run_test_case(case_number, input_tiles, expected):\n",
    "    result = solution.numTilePossibilities(input_tiles)\n",
    "    status = \"PASSED\" if result == expected else \"FAILED\"\n",
    "    print(f\"Case {case_number} - tiles: {input_tiles}, Output: {result}, Expected: {expected}, Status: {status}\")\n",
    "\n",
    "test_cases = [\n",
    "    (1, \"AAB\", 8),\n",
    "    (2, \"AAABBC\", 188),\n",
    "    (3, \"V\", 1)\n",
    "]\n",
    "\n",
    "for case_number, input_tiles, expected in test_cases:\n",
    "    run_test_case(case_number, input_tiles, expected)"
   ]
  }
 ],
 "metadata": {
  "kernelspec": {
   "display_name": "base",
   "language": "python",
   "name": "python3"
  },
  "language_info": {
   "codemirror_mode": {
    "name": "ipython",
    "version": 3
   },
   "file_extension": ".py",
   "mimetype": "text/x-python",
   "name": "python",
   "nbconvert_exporter": "python",
   "pygments_lexer": "ipython3",
   "version": "3.10.12"
  }
 },
 "nbformat": 4,
 "nbformat_minor": 2
}

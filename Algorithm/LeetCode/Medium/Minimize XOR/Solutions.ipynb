{
 "cells": [
  {
   "cell_type": "markdown",
   "metadata": {},
   "source": [
    "# **SOLUTION**"
   ]
  },
  {
   "cell_type": "code",
   "execution_count": 10,
   "metadata": {},
   "outputs": [],
   "source": [
    "class Solution(object):\n",
    "    def minimizeXor(self, num1, num2):\n",
    "        \"\"\"\n",
    "        :type num1: int\n",
    "        :type num2: int\n",
    "        :rtype: int\n",
    "        \"\"\"\n",
    "        return self.solverNaiveGPT(num1, num2)\n",
    "\n",
    "    def unsolverNaive(self, num1, num2):\n",
    "        \"\"\"\n",
    "        :type num1: int\n",
    "        :type num2: int\n",
    "        :rtype: int\n",
    "        \"\"\"\n",
    "        max_len = max(num1.bit_length(), num2.bit_length())\n",
    "        num1_str = bin(num1)[2:].zfill(max_len)\n",
    "        count_1_in_num2 = bin(num2).count('1')\n",
    "\n",
    "        indexes_of_1_in_num1_list = []\n",
    "        for index, char in enumerate(num1_str):\n",
    "            if char == \"1\":\n",
    "                indexes_of_1_in_num1_list.append(index)\n",
    "\n",
    "        same_num2_list = [\"0\"] * max_len\n",
    "\n",
    "        if len(indexes_of_1_in_num1_list) >= count_1_in_num2:\n",
    "            for i in range(count_1_in_num2):\n",
    "                same_num2_list[indexes_of_1_in_num1_list[i]] = \"1\"\n",
    "        else:\n",
    "            for i in range(len(indexes_of_1_in_num1_list)):\n",
    "                same_num2_list[indexes_of_1_in_num1_list[i]] = \"1\"\n",
    "            remaining_ones = count_1_in_num2 - len(indexes_of_1_in_num1_list)\n",
    "            for i in range(len(same_num2_list)):\n",
    "                if remaining_ones == 0:\n",
    "                    break\n",
    "                if same_num2_list[i] == \"0\":  \n",
    "                    same_num2_list[i] = \"1\"\n",
    "                    remaining_ones -= 1\n",
    "\n",
    "        same_num2 = ''.join(same_num2_list)\n",
    "        return int(same_num2, 2)\n",
    "\n",
    "        \n",
    "    def solverNaiveGPT(self, num1, num2):\n",
    "        \"\"\"\n",
    "        :type num1: int\n",
    "        :type num2: int\n",
    "        :rtype: int\n",
    "        \"\"\"\n",
    "        max_len = max(num1.bit_length(), num2.bit_length())\n",
    "        same_num2 = \"0\" * max_len\n",
    "\n",
    "        num1_str = bin(num1)[2:].zfill(max_len)\n",
    "        indexes_of_1_in_num1_list = []\n",
    "        indexes_of_0_in_num1_list = []\n",
    "        for index, char in enumerate(num1_str):\n",
    "            if char == \"1\":\n",
    "                indexes_of_1_in_num1_list.append(index)\n",
    "            else:\n",
    "                indexes_of_0_in_num1_list.append(index)\n",
    "\n",
    "        count_1_in_num2 = bin(num2).count('1')\n",
    "        same_num2_list = list(same_num2)\n",
    "\n",
    "        if len(indexes_of_1_in_num1_list) < count_1_in_num2:\n",
    "            for i in range(len(indexes_of_1_in_num1_list)):\n",
    "                same_num2_list[indexes_of_1_in_num1_list[i]] = \"1\"\n",
    "            leftover = count_1_in_num2 - len(indexes_of_1_in_num1_list)\n",
    "            for i in range(leftover):\n",
    "                same_num2_list[indexes_of_0_in_num1_list[-(i+1)]] = \"1\"\n",
    "        else:\n",
    "            for i in range(count_1_in_num2):\n",
    "                same_num2_list[indexes_of_1_in_num1_list[i]] = \"1\"\n",
    "\n",
    "        same_num2 = ''.join(same_num2_list)\n",
    "        return int(same_num2, 2)\n",
    "\n",
    "\n",
    "\n"
   ]
  },
  {
   "cell_type": "markdown",
   "metadata": {},
   "source": [
    "# **DRAFT**"
   ]
  },
  {
   "cell_type": "code",
   "execution_count": 53,
   "metadata": {},
   "outputs": [],
   "source": [
    "num1 = 1\n",
    "num2 = 12"
   ]
  },
  {
   "cell_type": "code",
   "execution_count": 54,
   "metadata": {},
   "outputs": [
    {
     "data": {
      "text/plain": [
       "4"
      ]
     },
     "execution_count": 54,
     "metadata": {},
     "output_type": "execute_result"
    }
   ],
   "source": [
    "max_len = max(num1.bit_length(), num2.bit_length())\n",
    "max_len"
   ]
  },
  {
   "cell_type": "code",
   "execution_count": 55,
   "metadata": {},
   "outputs": [
    {
     "data": {
      "text/plain": [
       "'0000'"
      ]
     },
     "execution_count": 55,
     "metadata": {},
     "output_type": "execute_result"
    }
   ],
   "source": [
    "same_num2 = \"0\" * max_len\n",
    "same_num2"
   ]
  },
  {
   "cell_type": "code",
   "execution_count": 56,
   "metadata": {},
   "outputs": [
    {
     "name": "stdout",
     "output_type": "stream",
     "text": [
      "[3]\n"
     ]
    }
   ],
   "source": [
    "num1_str = bin(num1)[2:].zfill(max_len)\n",
    "indexes_of_1_in_num1_list = []\n",
    "for index, char in enumerate(num1_str):\n",
    "    if char == \"1\":\n",
    "        indexes_of_1_in_num1_list.append(index)\n",
    "print(indexes_of_1_in_num1_list)\n"
   ]
  },
  {
   "cell_type": "code",
   "execution_count": 57,
   "metadata": {},
   "outputs": [
    {
     "data": {
      "text/plain": [
       "2"
      ]
     },
     "execution_count": 57,
     "metadata": {},
     "output_type": "execute_result"
    }
   ],
   "source": [
    "count_1_in_num2 = bin(num2).count('1')\n",
    "count_1_in_num2"
   ]
  },
  {
   "cell_type": "code",
   "execution_count": 59,
   "metadata": {},
   "outputs": [
    {
     "name": "stdout",
     "output_type": "stream",
     "text": [
      "0001\n"
     ]
    }
   ],
   "source": [
    "same_num2_list = list(same_num2)\n",
    "if len(indexes_of_1_in_num1_list) < count_1_in_num2:\n",
    "    for i in range(len(indexes_of_1_in_num1_list)):\n",
    "        same_num2_list[indexes_of_1_in_num1_list[i]] = \"1\"\n",
    "else:\n",
    "    for i in range(count_1_in_num2):\n",
    "        same_num2_list[indexes_of_1_in_num1_list[i]] = \"1\"\n",
    "\n",
    "same_num2 = ''.join(same_num2_list)\n",
    "print(same_num2) \n"
   ]
  },
  {
   "cell_type": "code",
   "execution_count": 62,
   "metadata": {},
   "outputs": [
    {
     "data": {
      "text/plain": [
       "1"
      ]
     },
     "execution_count": 62,
     "metadata": {},
     "output_type": "execute_result"
    }
   ],
   "source": [
    "int(same_num2, 2)"
   ]
  },
  {
   "cell_type": "code",
   "execution_count": 61,
   "metadata": {},
   "outputs": [
    {
     "data": {
      "text/plain": [
       "'0011'"
      ]
     },
     "execution_count": 61,
     "metadata": {},
     "output_type": "execute_result"
    }
   ],
   "source": [
    "bin(3)[2:].zfill(max_len)"
   ]
  },
  {
   "cell_type": "markdown",
   "metadata": {},
   "source": [
    "# **TESTCASES**"
   ]
  },
  {
   "cell_type": "code",
   "execution_count": 12,
   "metadata": {},
   "outputs": [
    {
     "name": "stdout",
     "output_type": "stream",
     "text": [
      "Case 1 - nums1: [2, 1, 3], nums2: [10, 2, 5, 0], Output: 13, Expected: 13, Status: PASSED\n",
      "Case 2 - nums1: [1, 2], nums2: [3, 4], Output: 0, Expected: 0, Status: PASSED\n"
     ]
    }
   ],
   "source": [
    "solution = Solution()\n",
    "\n",
    "def run_test_case(case_number, input_nums1, input_nums2, expected):\n",
    "    result = solution.xorAllNums(input_nums1, input_nums2)\n",
    "    status = \"PASSED\" if result == expected else \"FAILED\"\n",
    "    print(f\"Case {case_number} - nums1: {input_nums1}, nums2: {input_nums2}, Output: {result}, Expected: {expected}, Status: {status}\")\n",
    "\n",
    "test_cases = [\n",
    "    (1, [2,1,3], [10,2,5,0], 13),\n",
    "    (2, [1,2], [3,4], 0)\n",
    "]\n",
    "\n",
    "for case_number, input_nums1, input_nums2, expected in test_cases:\n",
    "    run_test_case(case_number, input_nums1, input_nums2, expected)"
   ]
  }
 ],
 "metadata": {
  "kernelspec": {
   "display_name": "base",
   "language": "python",
   "name": "python3"
  },
  "language_info": {
   "codemirror_mode": {
    "name": "ipython",
    "version": 3
   },
   "file_extension": ".py",
   "mimetype": "text/x-python",
   "name": "python",
   "nbconvert_exporter": "python",
   "pygments_lexer": "ipython3",
   "version": "3.10.12"
  }
 },
 "nbformat": 4,
 "nbformat_minor": 2
}

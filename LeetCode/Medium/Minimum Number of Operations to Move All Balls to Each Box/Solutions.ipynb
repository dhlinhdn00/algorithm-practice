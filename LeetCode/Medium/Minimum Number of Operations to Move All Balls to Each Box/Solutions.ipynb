{
 "cells": [
  {
   "cell_type": "markdown",
   "metadata": {},
   "source": [
    "# **SOLUTION**"
   ]
  },
  {
   "cell_type": "code",
   "execution_count": null,
   "metadata": {},
   "outputs": [],
   "source": [
    "class Solution(object):\n",
    "    def minOperations(self, boxes):\n",
    "        \"\"\"\n",
    "        :type boxes: str\n",
    "        :rtype: List[int]\n",
    "        \"\"\"\n",
    "        return self.solverTwoPassPrefixSum(boxes)\n",
    "    \n",
    "    def solverNaive(self, boxes):\n",
    "        \"\"\"\n",
    "        :type boxes: str\n",
    "        :rtype: List[int]\n",
    "        status: Low Rank of Complexity of Runtime and Memory\n",
    "        complexity: O(n)\n",
    "        \"\"\"\n",
    "        ops = [0] * len(boxes)\n",
    "        index_list = list(range(len(boxes)))\n",
    "        for i, box in enumerate(boxes):\n",
    "            if box == \"1\":\n",
    "                distance_list = list(map(lambda x: abs(x - i), index_list))\n",
    "                temp = list(map(lambda x, y: x + y, ops, distance_list))\n",
    "                ops = temp\n",
    "        return ops\n",
    "    \n",
    "    def solverTwoPassPrefixSum(self, boxes):\n",
    "        \"\"\"\n",
    "        :type boxes: str\n",
    "        :rtype: List[int]\n",
    "        status: Optimized\n",
    "        \"\"\"\n",
    "        n = len(boxes)\n",
    "        ops = [0] * n\n",
    "        \n",
    "        count = 0 \n",
    "        current_ops = 0\n",
    "        for i in range(n):\n",
    "            ops[i] += current_ops\n",
    "            if boxes[i] == '1':\n",
    "                count += 1\n",
    "            current_ops += count  \n",
    "\n",
    "        count = 0  \n",
    "        current_ops = 0  \n",
    "        for i in range(n-1, -1, -1):\n",
    "            ops[i] += current_ops\n",
    "            if boxes[i] == '1':\n",
    "                count += 1\n",
    "            current_ops += count \n",
    "\n",
    "        return ops\n",
    "\n"
   ]
  },
  {
   "cell_type": "markdown",
   "metadata": {},
   "source": [
    "# **DRAFT**"
   ]
  },
  {
   "cell_type": "code",
   "execution_count": 7,
   "metadata": {},
   "outputs": [],
   "source": [
    "boxes = \"001011\""
   ]
  },
  {
   "cell_type": "code",
   "execution_count": 8,
   "metadata": {},
   "outputs": [
    {
     "name": "stdout",
     "output_type": "stream",
     "text": [
      "[0, 1, 2, 3, 4, 5]\n",
      "[2, 1, 0, 1, 2, 3]\n",
      "[4, 3, 2, 1, 0, 1]\n",
      "[5, 4, 3, 2, 1, 0]\n",
      "[11, 8, 5, 4, 3, 4]\n"
     ]
    }
   ],
   "source": [
    "ops = [0] * len(boxes)\n",
    "index_list = list(range(len(boxes)))\n",
    "print(index_list)\n",
    "# result = list(map(lambda x: abs(x - 3), index_list))\n",
    "# print(result)\n",
    "# print(ops)\n",
    "for i, box in enumerate(boxes):\n",
    "    if box == \"1\":\n",
    "        distance_list = list(map(lambda x: abs(x - i), index_list))\n",
    "        print(distance_list)\n",
    "        temp = list(map(lambda x, y: x + y, ops, distance_list))\n",
    "        ops = temp\n",
    "print(ops)\n",
    "\n"
   ]
  },
  {
   "cell_type": "markdown",
   "metadata": {},
   "source": [
    "# **TESTCASES**"
   ]
  },
  {
   "cell_type": "code",
   "execution_count": 4,
   "metadata": {},
   "outputs": [
    {
     "name": "stdout",
     "output_type": "stream",
     "text": [
      "[0, 1, 2]\n",
      "[1, 0, 1]\n",
      "Case 1 - boxes: 110, Output: [1, 1, 3], Expected: [1, 1, 3], Status: PASSED\n",
      "[2, 1, 0, 1, 2, 3]\n",
      "[4, 3, 2, 1, 0, 1]\n",
      "[5, 4, 3, 2, 1, 0]\n",
      "Case 2 - boxes: 001011, Output: [11, 8, 5, 4, 3, 4], Expected: [11, 8, 5, 4, 3, 4], Status: PASSED\n"
     ]
    }
   ],
   "source": [
    "solution = Solution()\n",
    "\n",
    "def run_test_case(case_number, input_boxes, expected):\n",
    "    result = solution.minOperations(input_boxes)\n",
    "    status = \"PASSED\" if result == expected else \"FAILED\"\n",
    "    print(f\"Case {case_number} - boxes: {input_boxes}, Output: {result}, Expected: {expected}, Status: {status}\")\n",
    "\n",
    "test_cases = [\n",
    "    (1, \"110\", [1,1,3]),\n",
    "    (2, \"001011\", [11,8,5,4,3,4])\n",
    "]\n",
    "\n",
    "for case_number, input_boxes, expected in test_cases:\n",
    "    run_test_case(case_number, input_boxes, expected)"
   ]
  }
 ],
 "metadata": {
  "kernelspec": {
   "display_name": "base",
   "language": "python",
   "name": "python3"
  },
  "language_info": {
   "codemirror_mode": {
    "name": "ipython",
    "version": 3
   },
   "file_extension": ".py",
   "mimetype": "text/x-python",
   "name": "python",
   "nbconvert_exporter": "python",
   "pygments_lexer": "ipython3",
   "version": "3.11.5"
  }
 },
 "nbformat": 4,
 "nbformat_minor": 2
}

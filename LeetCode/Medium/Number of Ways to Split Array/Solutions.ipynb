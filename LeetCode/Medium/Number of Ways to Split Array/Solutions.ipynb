{
 "cells": [
  {
   "cell_type": "markdown",
   "metadata": {},
   "source": [
    "# **SOLUTION**"
   ]
  },
  {
   "cell_type": "code",
   "execution_count": 44,
   "metadata": {},
   "outputs": [],
   "source": [
    "class Solution(object):\n",
    "    def __init__(self):\n",
    "        # self.vowel_list = [\"a\", \"e\", \"i\", \"o\", \"u\"]\n",
    "        self.vowel_list = set(\"aeiou\")\n",
    "\n",
    "    def vowelStrings(self, words, queries):\n",
    "        \"\"\"\n",
    "        :type words: List[str]\n",
    "        :type queries: List[List[int]]\n",
    "        :rtype: List[int]\n",
    "        \"\"\"\n",
    "        return self.solverPrefix(words, queries)\n",
    "    \n",
    "    def solverNaive(self, words, queries):\n",
    "        \"\"\"\n",
    "        :type words: List[str]\n",
    "        :type queries: List[List[int]]\n",
    "        :rtype: List[int]\n",
    "        :complexity: O[n^2]\n",
    "        :submission status: Time Limit Exceeded\n",
    "        \"\"\"\n",
    "        ans = []\n",
    "        for i in queries:\n",
    "            temp = words[i[0] : (i[1] + 1)]\n",
    "            count = 0\n",
    "            for j in temp:\n",
    "                if j[0] in self.vowel_list and j[-1] in self.vowel_list:\n",
    "                    count += 1\n",
    "            ans.append(count)\n",
    "        return ans\n",
    "\n",
    "    def solverPrefix(self, words, queries):\n",
    "        \"\"\"\n",
    "        :type words: List[str]\n",
    "        :type queries: List[List[int]]\n",
    "        :complexity: O[n]\n",
    "        \"\"\" \n",
    "        prefix = [0] * len(words)\n",
    "        count = 0\n",
    "        for i, word in enumerate(words):\n",
    "            if word[0] in self.vowel_list and word[-1] in self.vowel_list:\n",
    "                count += 1\n",
    "            prefix[i] = count\n",
    "        ans = []\n",
    "        for L, R in queries:\n",
    "            if L == 0:\n",
    "                ans.append(prefix[R])\n",
    "            else:\n",
    "                ans.append(prefix[R] - prefix[L-1])\n",
    "        return ans\n",
    "            "
   ]
  },
  {
   "cell_type": "markdown",
   "metadata": {},
   "source": [
    "# **DRAFT**"
   ]
  },
  {
   "cell_type": "code",
   "execution_count": 18,
   "metadata": {},
   "outputs": [
    {
     "name": "stdout",
     "output_type": "stream",
     "text": [
      "['aba', 'bcb', 'ece']\n",
      "['bcb', 'ece', 'aa', 'e']\n",
      "['bcb']\n",
      "[2, 3, 0]\n"
     ]
    }
   ],
   "source": [
    "test_list = [\"aba\",\"bcb\",\"ece\",\"aa\",\"e\"]\n",
    "vowel_list = [\"a\", \"e\", \"i\", \"o\", \"u\"]\n",
    "test_queries = [[0,2],[1,4],[1,1]]\n",
    "ans = []\n",
    "# print(test_queries[0][1])\n",
    "# test_list[0:3]\n",
    "for i in test_queries:\n",
    "    temp = test_list[i[0] : (i[1]+1)]\n",
    "    print(temp)\n",
    "    count = 0\n",
    "    for j in temp:\n",
    "        if j[0] in vowel_list and j[-1] in vowel_list:\n",
    "            count += 1\n",
    "    ans.append(count)\n",
    "print(ans)"
   ]
  },
  {
   "cell_type": "code",
   "execution_count": 33,
   "metadata": {},
   "outputs": [
    {
     "name": "stdout",
     "output_type": "stream",
     "text": [
      "[0, 0, 0, 0, 0]\n",
      "[1, 1, 2, 3, 4]\n",
      "2\n",
      "3\n"
     ]
    }
   ],
   "source": [
    "test_list = [\"aba\",\"bcb\",\"ece\",\"aa\",\"e\"]\n",
    "vowel_list = [\"a\", \"e\", \"i\", \"o\", \"u\"]\n",
    "prefix = [0]*len(test_list)\n",
    "print(prefix)\n",
    "count = 0\n",
    "for i, word in enumerate(test_list):\n",
    "    if word and word[0].lower() in vowel_list and word[-1].lower() in vowel_list:\n",
    "        count += 1\n",
    "    prefix[i] = count\n",
    "print(prefix)\n",
    "print(prefix[2])\n",
    "print(prefix[4]-prefix[1])"
   ]
  },
  {
   "cell_type": "markdown",
   "metadata": {},
   "source": [
    "# **TESTCASES**"
   ]
  },
  {
   "cell_type": "code",
   "execution_count": 45,
   "metadata": {},
   "outputs": [
    {
     "name": "stdout",
     "output_type": "stream",
     "text": [
      "Case 1 - Input: ['aba', 'bcb', 'ece', 'aa', 'e'], [[0, 2], [1, 4], [1, 1]], Output: [2, 3, 0], Expected: [2, 3, 0], Status: PASSED\n",
      "Case 2 - Input: ['a', 'e', 'i'], [[0, 2], [0, 1], [2, 2]], Output: [3, 2, 1], Expected: [3, 2, 1], Status: PASSED\n",
      "Case 3 - Input: ['apple', 'ear', 'ice', 'orange', 'umbrella', 'egg', 'owl'], [[0, 4], [1, 3], [2, 6]], Output: [4, 2, 3], Expected: [4, 2, 3], Status: PASSED\n"
     ]
    }
   ],
   "source": [
    "solution = Solution()\n",
    "\n",
    "def run_test_case(case_number, input_words, input_queries, expected):\n",
    "    result = solution.vowelStrings(input_words, input_queries)\n",
    "    status = \"PASSED\" if result == expected else \"FAILED\"\n",
    "    print(f\"Case {case_number} - Input: {input_words}, {input_queries}, Output: {result}, Expected: {expected}, Status: {status}\")\n",
    "\n",
    "test_cases = [\n",
    "    (1, [\"aba\",\"bcb\",\"ece\",\"aa\",\"e\"], [[0,2],[1,4],[1,1]], [2,3,0]),\n",
    "    (2, [\"a\",\"e\",\"i\"], [[0,2],[0,1],[2,2]], [3,2,1]),\n",
    "    (3, [\"apple\", \"ear\", \"ice\", \"orange\", \"umbrella\", \"egg\", \"owl\"], [[0, 4], [1, 3], [2, 6]], [4, 2, 3])\n",
    "]\n",
    "\n",
    "for case_number, input_words, input_queries, expected in test_cases:\n",
    "    run_test_case(case_number, input_words, input_queries, expected)"
   ]
  }
 ],
 "metadata": {
  "kernelspec": {
   "display_name": "al_env",
   "language": "python",
   "name": "python3"
  },
  "language_info": {
   "codemirror_mode": {
    "name": "ipython",
    "version": 3
   },
   "file_extension": ".py",
   "mimetype": "text/x-python",
   "name": "python",
   "nbconvert_exporter": "python",
   "pygments_lexer": "ipython3",
   "version": "3.10.12"
  }
 },
 "nbformat": 4,
 "nbformat_minor": 2
}

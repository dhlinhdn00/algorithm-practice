{
 "cells": [
  {
   "cell_type": "markdown",
   "metadata": {},
   "source": [
    "# **SOLUTION**"
   ]
  },
  {
   "cell_type": "code",
   "execution_count": 22,
   "metadata": {},
   "outputs": [],
   "source": [
    "class Solution(object):\n",
    "    def waysToSplitArray(self, nums):\n",
    "        \"\"\"\n",
    "        :type nums: List[int]\n",
    "        :rtype: int\n",
    "        \"\"\"\n",
    "        return self.solverReversedLoop(nums)\n",
    "\n",
    "    def solverReversedLoop(self, nums):\n",
    "        \"\"\"\n",
    "        :type nums: List[int]\n",
    "        :rtype: int\n",
    "        :complexity: O(n)\n",
    "        \"\"\"\n",
    "        count = 0\n",
    "        # total = 0\n",
    "        # for i, num in enumerate(nums):\n",
    "        #     total += num\n",
    "        total = sum(nums)\n",
    "        \n",
    "        reversed_nums_stack = 0\n",
    "        for i in range (len(nums) -1, 0, -1):\n",
    "            reversed_nums_stack += nums[i]\n",
    "            if reversed_nums_stack <= total - reversed_nums_stack:\n",
    "                count += 1\n",
    "        return count\n",
    "            "
   ]
  },
  {
   "cell_type": "markdown",
   "metadata": {},
   "source": [
    "# **DRAFT**"
   ]
  },
  {
   "cell_type": "code",
   "execution_count": 14,
   "metadata": {},
   "outputs": [
    {
     "name": "stdout",
     "output_type": "stream",
     "text": [
      "7\n",
      "6\n",
      "\n",
      "-1\n",
      "14\n",
      "\n",
      "3\n",
      "10\n",
      "\n"
     ]
    }
   ],
   "source": [
    "nums = [10,4,-8,7]\n",
    "\n",
    "sum = 0\n",
    "count = 0\n",
    "for i, num in enumerate(nums):\n",
    "    sum += num\n",
    "reversed_nums_stack = 0\n",
    "for i in range (len(nums) -1, 0, -1):\n",
    "    reversed_nums_stack += nums[i]\n",
    "    print(reversed_nums_stack)\n",
    "    print(sum - reversed_nums_stack)\n",
    "    print(__)\n"
   ]
  },
  {
   "cell_type": "code",
   "execution_count": 19,
   "metadata": {},
   "outputs": [
    {
     "data": {
      "text/plain": [
       "13"
      ]
     },
     "execution_count": 19,
     "metadata": {},
     "output_type": "execute_result"
    }
   ],
   "source": [
    "del sum\n",
    "nums = [10,4,-8,7]\n",
    "sum(nums)"
   ]
  },
  {
   "cell_type": "markdown",
   "metadata": {},
   "source": [
    "# **TESTCASES**"
   ]
  },
  {
   "cell_type": "code",
   "execution_count": 23,
   "metadata": {},
   "outputs": [
    {
     "name": "stdout",
     "output_type": "stream",
     "text": [
      "Case 1 - Input: [10, 4, -8, 7], Output: 2, Expected: 2, Status: PASSED\n",
      "Case 2 - Input: [2, 3, 1, 0], Output: 2, Expected: 2, Status: PASSED\n"
     ]
    }
   ],
   "source": [
    "solution = Solution()\n",
    "\n",
    "def run_test_case(case_number, input_nums, expected):\n",
    "    result = solution.waysToSplitArray(input_nums)\n",
    "    status = \"PASSED\" if result == expected else \"FAILED\"\n",
    "    print(f\"Case {case_number} - Input: {input_nums}, Output: {result}, Expected: {expected}, Status: {status}\")\n",
    "\n",
    "test_cases = [\n",
    "    (1, [10,4,-8,7], 2),\n",
    "    (2, [2,3,1,0], 2)\n",
    "]\n",
    "\n",
    "for case_number, input_nums, expected in test_cases:\n",
    "    run_test_case(case_number, input_nums, expected)"
   ]
  }
 ],
 "metadata": {
  "kernelspec": {
   "display_name": "al_env",
   "language": "python",
   "name": "python3"
  },
  "language_info": {
   "codemirror_mode": {
    "name": "ipython",
    "version": 3
   },
   "file_extension": ".py",
   "mimetype": "text/x-python",
   "name": "python",
   "nbconvert_exporter": "python",
   "pygments_lexer": "ipython3",
   "version": "3.10.12"
  }
 },
 "nbformat": 4,
 "nbformat_minor": 2
}

{
 "cells": [
  {
   "cell_type": "markdown",
   "metadata": {},
   "source": [
    "# **SOLUTION**"
   ]
  },
  {
   "cell_type": "code",
   "execution_count": 10,
   "metadata": {},
   "outputs": [],
   "source": [
    "class Solution(object):\n",
    "    def xorAllNums(self, nums1, nums2):\n",
    "        \"\"\"\n",
    "        :type nums1: List[int]\n",
    "        :type nums2: List[int]\n",
    "        :rtype: int\n",
    "        \"\"\"\n",
    "        return self.solverOptimized(nums1, nums2)\n",
    "    \n",
    "    def solverNaive(self, nums1, nums2):\n",
    "        \"\"\"\n",
    "        :type nums1: List[int]\n",
    "        :type nums2: List[int]\n",
    "        :rtype: int\n",
    "        :complexity: O(n^2)\n",
    "        :status: Time Limit Exceeded\n",
    "        \"\"\"\n",
    "        ans = 0\n",
    "        for num1 in nums1:\n",
    "            for num2 in nums2:\n",
    "                ans ^= num1^num2\n",
    "\n",
    "        return ans\n",
    "\n",
    "    def solverOptimized(self, nums1, nums2):\n",
    "        \"\"\"\n",
    "        :type nums1: List[int]\n",
    "        :type nums2: List[int]\n",
    "        :rtype: int\n",
    "        :knowledge: A xor A = 0; A xor 0 = A; (A xor B) xor C = A xor (B xor C); A xor B = B xor A\n",
    "        :proof: if nums2 = [x, y, z]; nums1 = [a; b] \n",
    "              : => nums1 xor nums2 = (a xor x) xor (a xor y) xor (a xor z) xor (b xor x) xor (b xor y) xor (b xor z)\n",
    "              :                    = (x xor x) xor (y xor y) xor (z xor z) xor (a xor a) xor (b xor b) xor (a xor b)\n",
    "        :statement: \"If the length of nums1 is odd, the result will XOR with all elements of nums1, \n",
    "                     and if the length of nums2 is odd, the result will XOR with all elements of nums2.\"\n",
    "        \"\"\"\n",
    "        ans = 0\n",
    "        xor1 = 0\n",
    "        xor2 = 0\n",
    "\n",
    "        for num1 in nums1:\n",
    "            xor1 ^= num1\n",
    "        \n",
    "        for num2 in nums2:\n",
    "            xor2 ^= num2\n",
    "\n",
    "        if len(nums1) % 2 == 1:\n",
    "            ans = xor2\n",
    "        else:\n",
    "            ans = 0\n",
    "        \n",
    "        if len(nums2) % 2 == 1:\n",
    "            ans ^= xor1\n",
    "        \n",
    "        return ans"
   ]
  },
  {
   "cell_type": "markdown",
   "metadata": {},
   "source": [
    "# **DRAFT**"
   ]
  },
  {
   "cell_type": "markdown",
   "metadata": {},
   "source": [
    "# **TESTCASES**"
   ]
  },
  {
   "cell_type": "code",
   "execution_count": 12,
   "metadata": {},
   "outputs": [
    {
     "name": "stdout",
     "output_type": "stream",
     "text": [
      "Case 1 - nums1: [2, 1, 3], nums2: [10, 2, 5, 0], Output: 13, Expected: 13, Status: PASSED\n",
      "Case 2 - nums1: [1, 2], nums2: [3, 4], Output: 0, Expected: 0, Status: PASSED\n"
     ]
    }
   ],
   "source": [
    "solution = Solution()\n",
    "\n",
    "def run_test_case(case_number, input_nums1, input_nums2, expected):\n",
    "    result = solution.xorAllNums(input_nums1, input_nums2)\n",
    "    status = \"PASSED\" if result == expected else \"FAILED\"\n",
    "    print(f\"Case {case_number} - nums1: {input_nums1}, nums2: {input_nums2}, Output: {result}, Expected: {expected}, Status: {status}\")\n",
    "\n",
    "test_cases = [\n",
    "    (1, [2,1,3], [10,2,5,0], 13),\n",
    "    (2, [1,2], [3,4], 0)\n",
    "]\n",
    "\n",
    "for case_number, input_nums1, input_nums2, expected in test_cases:\n",
    "    run_test_case(case_number, input_nums1, input_nums2, expected)"
   ]
  }
 ],
 "metadata": {
  "kernelspec": {
   "display_name": "base",
   "language": "python",
   "name": "python3"
  },
  "language_info": {
   "codemirror_mode": {
    "name": "ipython",
    "version": 3
   },
   "file_extension": ".py",
   "mimetype": "text/x-python",
   "name": "python",
   "nbconvert_exporter": "python",
   "pygments_lexer": "ipython3",
   "version": "3.10.12"
  }
 },
 "nbformat": 4,
 "nbformat_minor": 2
}

{
 "cells": [
  {
   "cell_type": "markdown",
   "metadata": {},
   "source": [
    "# **SOLUTION**"
   ]
  },
  {
   "cell_type": "code",
   "execution_count": 12,
   "metadata": {},
   "outputs": [],
   "source": [
    "class Solution(object):\n",
    "    def findThePrefixCommonArray(self, A, B):\n",
    "        \"\"\"\n",
    "        :type A: List[int]\n",
    "        :type B: List[int]\n",
    "        :rtype: List[int]\n",
    "        \"\"\"\n",
    "        \n",
    "        return self.solverReference(A, B)\n",
    "\n",
    "    def count2TimesElements(self, arr):\n",
    "        \"\"\"\n",
    "        :type arr: List[int]\n",
    "        :rtype: int\n",
    "        :complexity: O[n]\n",
    "        \"\"\"\n",
    "        count_dict = {}\n",
    "        for element in arr:\n",
    "            if element in count_dict:\n",
    "                count_dict[element] += 1\n",
    "            else:\n",
    "                count_dict[element] = 1\n",
    "        amount = 0\n",
    "        for key in count_dict:\n",
    "            if count_dict[key] == 2:\n",
    "                amount += 1\n",
    "        return amount\n",
    "\n",
    "    def solverNaive(self, A, B):\n",
    "        \"\"\"\n",
    "        :type A: List[int]\n",
    "        :type B: List[int]\n",
    "        :rtype: list[int]\n",
    "        \"\"\"\n",
    "        count_list = []\n",
    "        ans = []\n",
    "        for i in range(len(A)):\n",
    "            count_list.append(A[i])\n",
    "            count_list.append(B[i])\n",
    "            ans.append(self.count2TimesElements(count_list))\n",
    "\n",
    "        return ans\n",
    "\n",
    "    def solverReference(self, A, B):\n",
    "        \"\"\"\n",
    "        :type A: List[int]\n",
    "        :type B: List[int]\n",
    "        :rtype: list[int]\n",
    "        \"\"\"\n",
    "        n = len(A)\n",
    "        in_A = [0]*n\n",
    "        in_B = [0]*n\n",
    "        answer = []\n",
    "        count = 0\n",
    "        for i in range(n):\n",
    "            a = A[i] - 1\n",
    "            b = B[i] - 1\n",
    "            if in_B[a]:\n",
    "                count += 1\n",
    "            in_A[a] = 1\n",
    "            if in_A[b]:\n",
    "                count += 1\n",
    "            in_B[b] = 1\n",
    "            answer.append(count)\n",
    "        return answer\n",
    "    "
   ]
  },
  {
   "cell_type": "markdown",
   "metadata": {},
   "source": [
    "# **DRAFT**"
   ]
  },
  {
   "cell_type": "code",
   "execution_count": 1,
   "metadata": {},
   "outputs": [],
   "source": []
  },
  {
   "cell_type": "code",
   "execution_count": 13,
   "metadata": {},
   "outputs": [],
   "source": [
    "A = [2, 3, 1]\n",
    "B = [3, 1, 2]\n",
    "\n",
    "count = 0\n",
    "count_list = []\n",
    "ans = []\n",
    "for i in range(len(A)):\n",
    "    count_list.append(A[i])\n",
    "    count_list.append(B[i])\n",
    "    ans.append(count2TimesElements(count_list))\n",
    "    \n",
    "    "
   ]
  },
  {
   "cell_type": "code",
   "execution_count": 8,
   "metadata": {},
   "outputs": [
    {
     "name": "stdout",
     "output_type": "stream",
     "text": [
      "[0, 1, 3]\n"
     ]
    }
   ],
   "source": [
    "print(ans)"
   ]
  },
  {
   "cell_type": "markdown",
   "metadata": {},
   "source": [
    "# **TESTCASES**"
   ]
  },
  {
   "cell_type": "code",
   "execution_count": 14,
   "metadata": {},
   "outputs": [
    {
     "name": "stdout",
     "output_type": "stream",
     "text": [
      "Case 1 - A: [1, 3, 2, 4], B: [3, 1, 2, 4], Output: [0, 2, 3, 4], Expected: [0, 2, 3, 4], Status: PASSED\n",
      "Case 2 - A: [2, 3, 1], B: [3, 1, 2], Output: [0, 1, 3], Expected: [0, 1, 3], Status: PASSED\n"
     ]
    }
   ],
   "source": [
    "solution = Solution()\n",
    "\n",
    "def run_test_case(case_number, input_A, input_B, expected):\n",
    "    result = solution.findThePrefixCommonArray(input_A, input_B)\n",
    "    status = \"PASSED\" if result == expected else \"FAILED\"\n",
    "    print(f\"Case {case_number} - A: {input_A}, B: {input_B}, Output: {result}, Expected: {expected}, Status: {status}\")\n",
    "\n",
    "test_cases = [\n",
    "    (1, [1, 3, 2, 4], [3, 1, 2, 4], [0, 2, 3, 4]),\n",
    "    (2, [2, 3, 1], [3, 1, 2], [0, 1, 3])\n",
    "]\n",
    "\n",
    "for case_number, input_A, input_B, expected in test_cases:\n",
    "    run_test_case(case_number, input_A, input_B, expected)"
   ]
  }
 ],
 "metadata": {
  "kernelspec": {
   "display_name": "base",
   "language": "python",
   "name": "python3"
  },
  "language_info": {
   "codemirror_mode": {
    "name": "ipython",
    "version": 3
   },
   "file_extension": ".py",
   "mimetype": "text/x-python",
   "name": "python",
   "nbconvert_exporter": "python",
   "pygments_lexer": "ipython3",
   "version": "3.10.12"
  }
 },
 "nbformat": 4,
 "nbformat_minor": 2
}

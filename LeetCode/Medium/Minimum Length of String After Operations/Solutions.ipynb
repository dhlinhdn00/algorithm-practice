{
 "cells": [
  {
   "cell_type": "markdown",
   "metadata": {},
   "source": [
    "# **SOLUTION**"
   ]
  },
  {
   "cell_type": "code",
   "execution_count": 116,
   "metadata": {},
   "outputs": [],
   "source": [
    "class Solution(object):\n",
    "    def minimumLength(self, s):\n",
    "        \"\"\"\n",
    "        :type s: str\n",
    "        :rtype: int\n",
    "        \"\"\"\n",
    "        return self.solverReference(s)\n",
    "\n",
    "    def countDictPreprocessed(self, str_list):\n",
    "        \"\"\"\n",
    "        Preprocesses a list of strings to create a dictionary mapping each unique element to \n",
    "        a list of its occurrence indices. Removes elements that appear fewer than 3 times \n",
    "        and adjusts the list of indices to have an odd length by removing the last index if necessary.\n",
    "        :type str_list: List[str]\n",
    "        :rtype: Dict[str, List[int]]\n",
    "        :complexity: O[n]\n",
    "        \"\"\"\n",
    "        index_dict = {}\n",
    "\n",
    "        for index, element in enumerate(str_list):\n",
    "            if element in index_dict:\n",
    "                index_dict[element].append(index)\n",
    "            else:\n",
    "                index_dict[element] = [index]\n",
    "\n",
    "        keys_to_remove = [key for key, value in index_dict.items() if len(value) < 3]\n",
    "\n",
    "        for key in keys_to_remove:\n",
    "            del index_dict[key]\n",
    "\n",
    "        for key, value in index_dict.items():\n",
    "            if len(value) % 2 == 0:\n",
    "                index_dict[key]= value[0:len(value) - 1]\n",
    "        return index_dict\n",
    "\n",
    "    def solverNaive(self, s):\n",
    "        \"\"\"\n",
    "        :type s: str\n",
    "        :rtype: int\n",
    "        \"\"\"\n",
    "        \n",
    "        s_list = list(s)\n",
    "        count_dict = self.countDictPreprocessed(s_list)\n",
    "\n",
    "        for key, value in count_dict.items():\n",
    "            for i in range(len(value)):\n",
    "                if i != len(value) //2:\n",
    "                    s_list[value[i]] =\"0\"\n",
    "\n",
    "        ans_list = [x for x in s_list if x != \"0\"]\n",
    "\n",
    "        ans = \"\".join(ans_list)\n",
    "\n",
    "        return len(ans)\n",
    "\n",
    "    def solverReference(self, s):\n",
    "        \"\"\"\n",
    "        :type s: str\n",
    "        :rtype: int\n",
    "        :Advantage: Focus on len of ans!\n",
    "        \"\"\"\n",
    "        minLen = 0\n",
    "        for c in \"abcdefghijklmnopqrstuvwxyz\":\n",
    "            x = s.count(c)\n",
    "            if x < 3:\n",
    "                minLen += x\n",
    "            elif x % 2 == 0:\n",
    "                minLen += 2\n",
    "            else:\n",
    "                minLen += 1\n",
    "        return minLen\n",
    "\n",
    "    "
   ]
  },
  {
   "cell_type": "markdown",
   "metadata": {},
   "source": [
    "# **DRAFT**"
   ]
  },
  {
   "cell_type": "code",
   "execution_count": 66,
   "metadata": {},
   "outputs": [
    {
     "data": {
      "text/plain": [
       "[1, 3, 5]"
      ]
     },
     "execution_count": 66,
     "metadata": {},
     "output_type": "execute_result"
    }
   ],
   "source": [
    "arr = [1, 3, 5, 6]\n",
    "arr = arr[0:len(arr) - 1]\n",
    "arr"
   ]
  },
  {
   "cell_type": "code",
   "execution_count": 104,
   "metadata": {},
   "outputs": [],
   "source": [
    "def countDictPreprocessed(str_list):\n",
    "    \"\"\"\n",
    "    Preprocesses a list of strings to create a dictionary mapping each unique element to \n",
    "    a list of its occurrence indices. Removes elements that appear fewer than 3 times \n",
    "    and adjusts the list of indices to have an odd length by removing the last index if necessary.\n",
    "    :type str_list: List[str]\n",
    "    :rtype: Dict[str, List[int]]\n",
    "    :complexity: O[n]\n",
    "    \"\"\"\n",
    "    index_dict = {}\n",
    "\n",
    "    for index, element in enumerate(str_list):\n",
    "        if element in index_dict:\n",
    "            index_dict[element].append(index)\n",
    "        else:\n",
    "            index_dict[element] = [index]\n",
    "\n",
    "    keys_to_remove = [key for key, value in index_dict.items() if len(value) < 3]\n",
    "\n",
    "    for key in keys_to_remove:\n",
    "        del index_dict[key]\n",
    "\n",
    "    for key, value in index_dict.items():\n",
    "        if len(value) % 2 == 0:\n",
    "            index_dict[key]= value[0:len(value) - 1]\n",
    "    return index_dict\n"
   ]
  },
  {
   "cell_type": "code",
   "execution_count": 105,
   "metadata": {},
   "outputs": [],
   "source": [
    "s = \"abaacbcbb\"\n",
    "s_list = list(s)\n",
    "count_dict = countDictPreprocessed(s_list)"
   ]
  },
  {
   "cell_type": "code",
   "execution_count": 106,
   "metadata": {},
   "outputs": [
    {
     "data": {
      "text/plain": [
       "{'a': [0, 2, 3], 'b': [1, 5, 7]}"
      ]
     },
     "execution_count": 106,
     "metadata": {},
     "output_type": "execute_result"
    }
   ],
   "source": [
    "count_dict"
   ]
  },
  {
   "cell_type": "code",
   "execution_count": 96,
   "metadata": {},
   "outputs": [
    {
     "name": "stdout",
     "output_type": "stream",
     "text": [
      "['a', 'b', 'a', 'a', 'c', 'b', 'c', 'b', 'b']\n"
     ]
    }
   ],
   "source": [
    "print(s_list)"
   ]
  },
  {
   "cell_type": "code",
   "execution_count": null,
   "metadata": {},
   "outputs": [],
   "source": [
    "# abaaacaad : index of a: 0, 2, 3, 4, 6, 7\n",
    "# baacaad : Remove 0, 3\n",
    "# bacad : Remove 0, 2, 3, 6"
   ]
  },
  {
   "cell_type": "code",
   "execution_count": null,
   "metadata": {},
   "outputs": [],
   "source": [
    "# abaaacad : index of a: 0, 2, 3, 4, 6\n",
    "# baacad : Remove 0, 3\n",
    "# bacd : Remove 0, 2, 3, 6"
   ]
  },
  {
   "cell_type": "code",
   "execution_count": 97,
   "metadata": {},
   "outputs": [
    {
     "name": "stdout",
     "output_type": "stream",
     "text": [
      "['0', '0', 'a', '0', 'c', 'b', 'c', '0', 'b']\n"
     ]
    }
   ],
   "source": [
    "for key, value in count_dict.items():\n",
    "    for i in range(len(value)):\n",
    "        if i != len(value) //2:\n",
    "            s_list[value[i]] =\"0\"\n",
    "print(s_list)\n",
    "# s = s_list.join(\"\")\n",
    "# print(s)"
   ]
  },
  {
   "cell_type": "code",
   "execution_count": 98,
   "metadata": {},
   "outputs": [
    {
     "data": {
      "text/plain": [
       "['a', 'c', 'b', 'c', 'b']"
      ]
     },
     "execution_count": 98,
     "metadata": {},
     "output_type": "execute_result"
    }
   ],
   "source": [
    "s_list = [x for x in s_list if x != \"0\"]\n",
    "s_list"
   ]
  },
  {
   "cell_type": "code",
   "execution_count": 99,
   "metadata": {},
   "outputs": [
    {
     "data": {
      "text/plain": [
       "'acbcb'"
      ]
     },
     "execution_count": 99,
     "metadata": {},
     "output_type": "execute_result"
    }
   ],
   "source": [
    "s = \"\".join(s_list)\n",
    "s"
   ]
  },
  {
   "cell_type": "markdown",
   "metadata": {},
   "source": [
    "# **TESTCASES**"
   ]
  },
  {
   "cell_type": "code",
   "execution_count": 115,
   "metadata": {},
   "outputs": [
    {
     "name": "stdout",
     "output_type": "stream",
     "text": [
      "Case 1 - s: abaacbcbb, Output: 5, Expected: 5, Status: PASSED\n",
      "Case 2 - s: aa, Output: 2, Expected: 2, Status: PASSED\n"
     ]
    }
   ],
   "source": [
    "solution = Solution()\n",
    "\n",
    "def run_test_case(case_number, input_s, expected):\n",
    "    result = solution.minimumLength(input_s)\n",
    "    status = \"PASSED\" if result == expected else \"FAILED\"\n",
    "    print(f\"Case {case_number} - s: {input_s}, Output: {result}, Expected: {expected}, Status: {status}\")\n",
    "\n",
    "test_cases = [\n",
    "    (1, \"abaacbcbb\", 5),\n",
    "    (2, \"aa\", 2)\n",
    "]\n",
    "\n",
    "for case_number, input_s, expected in test_cases:\n",
    "    run_test_case(case_number, input_s, expected)"
   ]
  }
 ],
 "metadata": {
  "kernelspec": {
   "display_name": "base",
   "language": "python",
   "name": "python3"
  },
  "language_info": {
   "codemirror_mode": {
    "name": "ipython",
    "version": 3
   },
   "file_extension": ".py",
   "mimetype": "text/x-python",
   "name": "python",
   "nbconvert_exporter": "python",
   "pygments_lexer": "ipython3",
   "version": "3.10.12"
  }
 },
 "nbformat": 4,
 "nbformat_minor": 2
}

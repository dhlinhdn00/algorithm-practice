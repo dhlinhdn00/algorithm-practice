{
 "cells": [
  {
   "cell_type": "markdown",
   "metadata": {},
   "source": [
    "# **SOLUTION**"
   ]
  },
  {
   "cell_type": "code",
   "execution_count": 32,
   "metadata": {},
   "outputs": [],
   "source": [
    "class Solution(object):\n",
    "    def canConstruct(self, s, k):\n",
    "        \"\"\"\n",
    "        :type s: str\n",
    "        :type k: int\n",
    "        :rtype: bool\n",
    "        \"\"\"\n",
    "        \n",
    "        return self.solverTest(s, k)\n",
    "\n",
    "    def solverTest(self, s, k):\n",
    "        \"\"\"\n",
    "        :type s: str\n",
    "        :type k: int\n",
    "        :rtype: bool\n",
    "        :advantage: Focus on amount.\n",
    "        \"\"\"\n",
    "        if len(s) < k:\n",
    "            return False\n",
    "        even_count = 0\n",
    "        for c in \"abcdefghijklmnopqrstuvwxyz\":\n",
    "            x = s.count(c)\n",
    "            if x != 0 and x % 2 == 1:\n",
    "                even_count += 1\n",
    "        if even_count > k:\n",
    "            return False\n",
    "        return True\n",
    "\n",
    "    def solverReference(self, s, k):\n",
    "        \"\"\"\n",
    "        :type s: str\n",
    "        :type k: int\n",
    "        :rtype: bool\n",
    "        \"\"\"\n",
    "        if len(s)<k:return False\n",
    "        f=\"abcdefghijklmnopqrstuvwxyz\"\n",
    "        c=0\n",
    "        for i in f:\n",
    "            c+=s.count(i)%2\n",
    "        return False if c>k else True\n",
    "        "
   ]
  },
  {
   "cell_type": "markdown",
   "metadata": {},
   "source": [
    "# **DRAFT**"
   ]
  },
  {
   "cell_type": "code",
   "execution_count": 27,
   "metadata": {},
   "outputs": [],
   "source": [
    "def solverTest(s, k):\n",
    "    \"\"\"\n",
    "    :type s: str\n",
    "    :rtype: bool\n",
    "    \"\"\"\n",
    "    even_count = 0\n",
    "    for c in \"abcdefghijklmnopqrstuvwxyz\":\n",
    "        x = s.count(c)\n",
    "        if x != 0 and x % 2 == 1:\n",
    "            even_count += 1\n",
    "    if even_count > k:\n",
    "        print(\"False\")\n",
    "    print(\"True\")\n"
   ]
  },
  {
   "cell_type": "code",
   "execution_count": 28,
   "metadata": {},
   "outputs": [
    {
     "name": "stdout",
     "output_type": "stream",
     "text": [
      "False\n",
      "True\n"
     ]
    }
   ],
   "source": [
    "s = \"leetcode\"\n",
    "solverTest(s, 3)"
   ]
  },
  {
   "cell_type": "markdown",
   "metadata": {},
   "source": [
    "# **TESTCASES**"
   ]
  },
  {
   "cell_type": "code",
   "execution_count": 31,
   "metadata": {},
   "outputs": [
    {
     "name": "stdout",
     "output_type": "stream",
     "text": [
      "Case 1 - s: annabelle, k: 2, Output: True, Expected: True, Status: PASSED\n",
      "Case 2 - s: leetcode, k: 3, Output: False, Expected: False, Status: PASSED\n",
      "Case 3 - s: true, k: 4, Output: True, Expected: True, Status: PASSED\n"
     ]
    }
   ],
   "source": [
    "solution = Solution()\n",
    "\n",
    "def run_test_case(case_number, input_s, input_k, expected):\n",
    "    result = solution.canConstruct(input_s, input_k)\n",
    "    status = \"PASSED\" if result == expected else \"FAILED\"\n",
    "    print(f\"Case {case_number} - s: {input_s}, k: {input_k}, Output: {result}, Expected: {expected}, Status: {status}\")\n",
    "\n",
    "test_cases = [\n",
    "    (1, \"annabelle\", 2, True),\n",
    "    (2, \"leetcode\", 3, False),\n",
    "    (3, \"true\", 4, True)\n",
    "]\n",
    "\n",
    "for case_number, input_s, input_k, expected in test_cases:\n",
    "    run_test_case(case_number, input_s, input_k, expected)"
   ]
  }
 ],
 "metadata": {
  "kernelspec": {
   "display_name": "base",
   "language": "python",
   "name": "python3"
  },
  "language_info": {
   "codemirror_mode": {
    "name": "ipython",
    "version": 3
   },
   "file_extension": ".py",
   "mimetype": "text/x-python",
   "name": "python",
   "nbconvert_exporter": "python",
   "pygments_lexer": "ipython3",
   "version": "3.10.12"
  }
 },
 "nbformat": 4,
 "nbformat_minor": 2
}

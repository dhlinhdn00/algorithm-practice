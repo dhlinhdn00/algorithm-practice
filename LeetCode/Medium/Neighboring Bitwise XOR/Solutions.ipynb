{
 "cells": [
  {
   "cell_type": "markdown",
   "metadata": {},
   "source": [
    "# **SOLUTION**"
   ]
  },
  {
   "cell_type": "code",
   "execution_count": 46,
   "metadata": {},
   "outputs": [],
   "source": [
    "class Solution(object):\n",
    "    def doesValidArrayExist(self, derived):\n",
    "        \"\"\"\n",
    "        :type derived: List[int]\n",
    "        :rtype: bool\n",
    "        \"\"\"\n",
    "        return self.solverReference(derived)\n",
    "\n",
    "    def solverNaive(self, derived):\n",
    "        \"\"\"\n",
    "        :type derived: List[int]\n",
    "        :rtype: bool\n",
    "        :knowledge: 1 xor 1 = 0; 1 xor 0 = 1; 0 xor 1 = 1; 0 xor 0 = 0\n",
    "                  : A ^ B = C => B = A ^ C; C = A ^ B\n",
    "        \"\"\"\n",
    "        ans = []\n",
    "        for i in range(len(derived)):\n",
    "            if len(ans) == 0:\n",
    "                ans.append(0)\n",
    "            else:\n",
    "                ans.append(ans[i - 1] ^ derived[i-1])\n",
    "\n",
    "            if len(ans) == len(derived):\n",
    "                if derived[i] == ans[i] ^ ans[0]:\n",
    "                    return True\n",
    "        \n",
    "        ans = []\n",
    "        for i in range(len(derived)):\n",
    "            if len(ans) == 0:\n",
    "                ans.append(1)\n",
    "            else:\n",
    "                ans.append(ans[i - 1] ^ derived[i-1])\n",
    "\n",
    "            if len(ans) == len(derived):\n",
    "                if derived[i] == ans[i] ^ ans[0]:\n",
    "                    return True\n",
    "        return False\n",
    "    \n",
    "    def solverComprehension(self, derived):\n",
    "        \"\"\"\n",
    "        :type derived: List[int]\n",
    "        :rtype: bool\n",
    "        \"\"\"\n",
    "        for first in [0, 1]:\n",
    "            ans = [first]\n",
    "            for d in derived[:-1]:\n",
    "                ans.append(ans[-1] ^ d)\n",
    "            if ans[-1] ^ ans[0] == derived[-1]:\n",
    "                return True\n",
    "        return False\n",
    "\n",
    "    def solverReference(self, derived):\n",
    "        \"\"\"\n",
    "        :type derived: List[int]\n",
    "        :rtype: bool\n",
    "        :knowledge: d[0] = o[0] ^ o[1]; d[1]  = o[1] ^ o[2]; d[2] = o[2] ^ o[0]\n",
    "                  : total = d[0] ^ d[1] ^ d[2] = o[0] ^ o[1] ^ o[1] ^ o[2] ^ o[2] ^ o[0]\n",
    "                          = 0\n",
    "        \"\"\"\n",
    "        total_xor = 0 \n",
    "        for num in derived: \n",
    "            total_xor ^= num\n",
    "        if total_xor == 0:\n",
    "            return True\n",
    "        \n",
    "        return False"
   ]
  },
  {
   "cell_type": "markdown",
   "metadata": {},
   "source": [
    "# **DRAFT**"
   ]
  },
  {
   "cell_type": "code",
   "execution_count": 44,
   "metadata": {},
   "outputs": [],
   "source": [
    "ans = []\n",
    "derived = [1, 0]\n"
   ]
  },
  {
   "cell_type": "code",
   "execution_count": 45,
   "metadata": {},
   "outputs": [
    {
     "name": "stdout",
     "output_type": "stream",
     "text": [
      "False\n",
      "[0, 1]\n"
     ]
    }
   ],
   "source": [
    "for i in range(len(derived)):\n",
    "    if len(ans) == 0:\n",
    "        ans.append(0)\n",
    "    else:\n",
    "        ans.append(ans[i - 1] ^ derived[i-1])\n",
    "\n",
    "    if len(ans) == len(derived):\n",
    "        if derived[i] == ans[i] ^ ans[0]:\n",
    "            print(\"True\")\n",
    "        else:\n",
    "            print(\"False\")\n",
    "print(ans)\n",
    "\n"
   ]
  },
  {
   "cell_type": "markdown",
   "metadata": {},
   "source": [
    "# **TESTCASES**"
   ]
  },
  {
   "cell_type": "code",
   "execution_count": 47,
   "metadata": {},
   "outputs": [
    {
     "name": "stdout",
     "output_type": "stream",
     "text": [
      "Case 1 - derived: [1, 1, 0], Output: True, Expected: True, Status: PASSED\n",
      "Case 2 - derived: [1, 1], Output: True, Expected: True, Status: PASSED\n",
      "Case 3 - derived: [1, 0], Output: False, Expected: False, Status: PASSED\n"
     ]
    }
   ],
   "source": [
    "solution = Solution()\n",
    "\n",
    "def run_test_case(case_number, input_derived, expected):\n",
    "    result = solution.doesValidArrayExist(input_derived)\n",
    "    status = \"PASSED\" if result == expected else \"FAILED\"\n",
    "    print(f\"Case {case_number} - derived: {input_derived}, Output: {result}, Expected: {expected}, Status: {status}\")\n",
    "\n",
    "test_cases = [\n",
    "    (1, [1,1,0], True),\n",
    "    (2, [1,1], True),\n",
    "    (3, [1, 0], False)\n",
    "]\n",
    "\n",
    "for case_number, input_derived, expected in test_cases:\n",
    "    run_test_case(case_number, input_derived, expected)"
   ]
  }
 ],
 "metadata": {
  "kernelspec": {
   "display_name": "base",
   "language": "python",
   "name": "python3"
  },
  "language_info": {
   "codemirror_mode": {
    "name": "ipython",
    "version": 3
   },
   "file_extension": ".py",
   "mimetype": "text/x-python",
   "name": "python",
   "nbconvert_exporter": "python",
   "pygments_lexer": "ipython3",
   "version": "3.10.12"
  }
 },
 "nbformat": 4,
 "nbformat_minor": 2
}

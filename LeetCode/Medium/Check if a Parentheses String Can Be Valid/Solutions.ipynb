{
 "cells": [
  {
   "cell_type": "markdown",
   "metadata": {},
   "source": [
    "# **SOLUTION**"
   ]
  },
  {
   "cell_type": "code",
   "execution_count": 2,
   "metadata": {},
   "outputs": [],
   "source": [
    "class Solution(object):\n",
    "    def canBeValid(self, s, locked):\n",
    "        \"\"\"\n",
    "        :type s: str\n",
    "        :type locked: str\n",
    "        :rtype: bool\n",
    "        \"\"\"\n",
    "\n",
    "        return self.solver2Pass(s, locked)\n",
    "\n",
    "    def solver2Pass(self, s, locked):\n",
    "        n = len(s)\n",
    "        if n % 2 != 0:\n",
    "            return False\n",
    "\n",
    "        low = 0  \n",
    "        high = 0  \n",
    "\n",
    "        for i in range(n):\n",
    "            if locked[i] == '1':\n",
    "                if s[i] == '(':\n",
    "                    low += 1\n",
    "                    high += 1\n",
    "                else: \n",
    "                    low -= 1\n",
    "                    high -= 1\n",
    "            else:\n",
    "                low -= 1  \n",
    "                high += 1  \n",
    "\n",
    "            if high < 0:\n",
    "                return False\n",
    "            if low < 0:\n",
    "                low = 0\n",
    "\n",
    "        if low != 0:\n",
    "            return False\n",
    "\n",
    "        low = 0\n",
    "        high = 0\n",
    "\n",
    "        for i in range(n - 1, -1, -1):\n",
    "            if locked[i] == '1':\n",
    "                if s[i] == ')':\n",
    "                    low += 1\n",
    "                    high += 1\n",
    "                else: \n",
    "                    low -= 1\n",
    "                    high -= 1\n",
    "            else:\n",
    "                low -= 1  \n",
    "                high += 1 \n",
    "\n",
    "            if high < 0:\n",
    "                return False\n",
    "            if low < 0:\n",
    "                low = 0\n",
    "\n",
    "        return low == 0\n"
   ]
  },
  {
   "cell_type": "markdown",
   "metadata": {},
   "source": [
    "# **DRAFT**"
   ]
  },
  {
   "cell_type": "markdown",
   "metadata": {},
   "source": [
    "# **TESTCASES**"
   ]
  },
  {
   "cell_type": "code",
   "execution_count": 3,
   "metadata": {},
   "outputs": [
    {
     "name": "stdout",
     "output_type": "stream",
     "text": [
      "Case 1 - s: ))())), locked: 010100, Output: True, Expected: True, Status: PASSED\n",
      "Case 2 - s: ()(), locked: 0000, Output: True, Expected: True, Status: PASSED\n",
      "Case 3 - s: ), locked: 0, Output: False, Expected: False, Status: PASSED\n"
     ]
    }
   ],
   "source": [
    "solution = Solution()\n",
    "\n",
    "def run_test_case(case_number, input_s, input_locked, expected):\n",
    "    result = solution.canBeValid(input_s, input_locked)\n",
    "    status = \"PASSED\" if result == expected else \"FAILED\"\n",
    "    print(f\"Case {case_number} - s: {input_s}, locked: {input_locked}, Output: {result}, Expected: {expected}, Status: {status}\")\n",
    "\n",
    "test_cases = [\n",
    "    (1, \"))()))\", \"010100\", True),\n",
    "    (2, \"()()\", \"0000\", True),\n",
    "    (3, \")\", \"0\", False)\n",
    "]\n",
    "\n",
    "for case_number, input_s, input_locked, expected in test_cases:\n",
    "    run_test_case(case_number, input_s, input_locked, expected)"
   ]
  }
 ],
 "metadata": {
  "kernelspec": {
   "display_name": "base",
   "language": "python",
   "name": "python3"
  },
  "language_info": {
   "codemirror_mode": {
    "name": "ipython",
    "version": 3
   },
   "file_extension": ".py",
   "mimetype": "text/x-python",
   "name": "python",
   "nbconvert_exporter": "python",
   "pygments_lexer": "ipython3",
   "version": "3.10.12"
  }
 },
 "nbformat": 4,
 "nbformat_minor": 2
}

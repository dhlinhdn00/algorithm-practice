{
 "cells": [
  {
   "cell_type": "markdown",
   "metadata": {},
   "source": [
    "# **SOLUTION**"
   ]
  },
  {
   "cell_type": "code",
   "execution_count": 1,
   "metadata": {},
   "outputs": [],
   "source": [
    "class Solution(object):\n",
    "    def maxScore(self, s):\n",
    "        \"\"\"\n",
    "        :type s: str\n",
    "        :rtype: int\n",
    "        \"\"\"\n",
    "        return self.solverOnly1Loop(s)\n",
    "\n",
    "    def solverUsingCountFn(self, s):\n",
    "        \"\"\"\n",
    "        :type s: str\n",
    "        :rtype: int\n",
    "        :complexity: O(n^2)\n",
    "        \"\"\"\n",
    "        max_score = 0\n",
    "        first_half = \"\"\n",
    "        second_half = \"\"\n",
    "        for i in range(1, len(s)):\n",
    "            score = s[:i].count(\"0\") + s[i:].count(\"1\")\n",
    "            if score >= max_score:\n",
    "                max_score = score\n",
    "        return max_score\n",
    "\n",
    "    def solverOnly1Loop(self, s):\n",
    "        \"\"\"\n",
    "        :type s: str\n",
    "        :rtype: int\n",
    "        :complexity: O(n)\n",
    "        \"\"\"\n",
    "        max_score = 0\n",
    "        total_ones = s.count(\"1\")\n",
    "        current_zeros = 0\n",
    "        current_ones = total_ones\n",
    "        for i in range(1, len(s)-1):\n",
    "            if s[i] == \"0\":\n",
    "                current_zeros += 1\n",
    "            else:\n",
    "                current_ones -= 1\n",
    "            score = current_zeros + current_ones\n",
    "            if score >= max_score:\n",
    "                max_score = score\n",
    "        return max_score\n"
   ]
  },
  {
   "cell_type": "markdown",
   "metadata": {},
   "source": [
    "# **TESTCASES**"
   ]
  },
  {
   "cell_type": "code",
   "execution_count": 2,
   "metadata": {},
   "outputs": [
    {
     "name": "stdout",
     "output_type": "stream",
     "text": [
      "Case 1 - Input: 011101, Output: 3, Expected: 5, Status: FAILED\n",
      "Case 2 - Input: 00111, Output: 4, Expected: 5, Status: FAILED\n",
      "Case 3 - Input: 1111, Output: 3, Expected: 3, Status: PASSED\n"
     ]
    }
   ],
   "source": [
    "solution = Solution()\n",
    "\n",
    "def run_test_case(case_number, input_str, expected):\n",
    "    result = solution.maxScore(input_str)\n",
    "    status = \"PASSED\" if result == expected else \"FAILED\"\n",
    "    print(f\"Case {case_number} - Input: {input_str}, Output: {result}, Expected: {expected}, Status: {status}\")\n",
    "\n",
    "test_cases = [\n",
    "    (1, \"011101\", 5),\n",
    "    (2, \"00111\", 5),\n",
    "    (3, \"1111\", 3)\n",
    "]\n",
    "\n",
    "for case_number, input_str, expected in test_cases:\n",
    "    run_test_case(case_number, input_str, expected)"
   ]
  }
 ],
 "metadata": {
  "kernelspec": {
   "display_name": "al_env",
   "language": "python",
   "name": "python3"
  },
  "language_info": {
   "codemirror_mode": {
    "name": "ipython",
    "version": 3
   },
   "file_extension": ".py",
   "mimetype": "text/x-python",
   "name": "python",
   "nbconvert_exporter": "python",
   "pygments_lexer": "ipython3",
   "version": "3.10.12"
  }
 },
 "nbformat": 4,
 "nbformat_minor": 2
}

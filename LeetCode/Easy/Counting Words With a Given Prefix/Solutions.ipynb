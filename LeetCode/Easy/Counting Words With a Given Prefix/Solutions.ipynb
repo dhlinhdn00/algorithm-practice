{
 "cells": [
  {
   "cell_type": "markdown",
   "metadata": {},
   "source": [
    "# **SOLUTION**"
   ]
  },
  {
   "cell_type": "code",
   "execution_count": 1,
   "metadata": {},
   "outputs": [],
   "source": [
    "class Solution(object):\n",
    "    def countPrefixSuffixPairs(self, words):\n",
    "        \"\"\"\n",
    "        :type words: List[str]\n",
    "        :rtype: int\n",
    "        \"\"\"\n",
    "        # words = [word.lower() for word in words]\n",
    "        return self.solverEasierOptimized(words)\n",
    "    \n",
    "    def isPrefixAndSuffix(self, str1, str2):\n",
    "        \"\"\"\n",
    "        :type str1: str\n",
    "        :type str2: str\n",
    "        :rtype: boolean\n",
    "        \"\"\"\n",
    "        check = 1 if str2.startswith(str1) and str2.endswith(str1) else 0\n",
    "        return check\n",
    "\n",
    "    def solverNaive(self, words):\n",
    "        \"\"\"\n",
    "        :type words: List[str]\n",
    "        :rtype: int\n",
    "        :complexity: O(n^2*m)\n",
    "        \"\"\"\n",
    "        ans = 0\n",
    "        for i in range(len(words)-1):\n",
    "            for j in range(i+1, len(words)):\n",
    "                # if i != j:\n",
    "                ans += self.isPrefixAndSuffix(words[i], words[j])\n",
    "        return ans\n",
    "    def solverOptimized(self, words):\n",
    "        \"\"\"\n",
    "        :type words: List[str]\n",
    "        :rtype: int\n",
    "        :complexity: O(n*m)\n",
    "        \"\"\"\n",
    "        frequency = {}\n",
    "        ans = 0\n",
    "        \n",
    "        for word in words:\n",
    "            length = len(word)\n",
    "            for l in range(1, length + 1):\n",
    "                prefix = word[:l]\n",
    "                suffix = word[-l:]\n",
    "                if prefix == suffix:\n",
    "                    if prefix in frequency:\n",
    "                        ans += frequency[prefix]\n",
    "            if word in frequency:\n",
    "                frequency[word] += 1\n",
    "            else:\n",
    "                frequency[word] = 1\n",
    "        \n",
    "        return ans\n",
    "    def solverEasierOptimized(self, words):\n",
    "        ans = 0\n",
    "        for i in range(len(words) - 1):\n",
    "            for j in range(i + 1,len(words)):\n",
    "                a = len(words[i])\n",
    "                if words[j][:a] == words[i] and words[j][-a:] == words[i]:\n",
    "                    ans += 1\n",
    "        return ans"
   ]
  },
  {
   "cell_type": "markdown",
   "metadata": {},
   "source": [
    "# **DRAFT**"
   ]
  },
  {
   "cell_type": "markdown",
   "metadata": {},
   "source": [
    "# **TESTCASES**"
   ]
  },
  {
   "cell_type": "code",
   "execution_count": 3,
   "metadata": {},
   "outputs": [
    {
     "name": "stdout",
     "output_type": "stream",
     "text": [
      "Case 1 - Input: ['a', 'aba', 'ababa', 'aa'], Output: 4, Expected: 4, Status: PASSED\n",
      "Case 2 - Input: ['pa', 'papa', 'ma', 'mama'], Output: 2, Expected: 2, Status: PASSED\n",
      "Case 3 - Input: ['abab', 'ab'], Output: 0, Expected: 0, Status: PASSED\n"
     ]
    }
   ],
   "source": [
    "solution = Solution()\n",
    "\n",
    "def run_test_case(case_number, input_words, expected):\n",
    "    result = solution.countPrefixSuffixPairs(input_words)\n",
    "    status = \"PASSED\" if result == expected else \"FAILED\"\n",
    "    print(f\"Case {case_number} - Input: {input_words}, Output: {result}, Expected: {expected}, Status: {status}\")\n",
    "\n",
    "test_cases = [\n",
    "    (1, [\"a\",\"aba\",\"ababa\",\"aa\"], 4),\n",
    "    (2, [\"pa\",\"papa\",\"ma\",\"mama\"], 2),\n",
    "    (3, [\"abab\",\"ab\"], 0)\n",
    "]\n",
    "\n",
    "for case_number, input_words, expected in test_cases:\n",
    "    run_test_case(case_number, input_words, expected)"
   ]
  }
 ],
 "metadata": {
  "kernelspec": {
   "display_name": "base",
   "language": "python",
   "name": "python3"
  },
  "language_info": {
   "codemirror_mode": {
    "name": "ipython",
    "version": 3
   },
   "file_extension": ".py",
   "mimetype": "text/x-python",
   "name": "python",
   "nbconvert_exporter": "python",
   "pygments_lexer": "ipython3",
   "version": "3.11.5"
  }
 },
 "nbformat": 4,
 "nbformat_minor": 2
}
